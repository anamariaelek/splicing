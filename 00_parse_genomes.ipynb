{
 "cells": [
  {
   "cell_type": "markdown",
   "metadata": {},
   "source": [
    "Here we will parse input genomes and annotations for pre-training the model."
   ]
  },
  {
   "cell_type": "markdown",
   "metadata": {},
   "source": [
    "## Select input genomes"
   ]
  },
  {
   "cell_type": "code",
   "execution_count": 1,
   "metadata": {},
   "outputs": [],
   "source": [
    "import os\n",
    "\n",
    "res_dir = '/work/aelek/projects/splicing/results/00_parse_genomes'\n",
    "plt_dir = '/work/aelek/projects/splicing/plots/00_parse_genomes'\n",
    "os.makedirs(res_dir, exist_ok=True)\n",
    "os.makedirs(plt_dir, exist_ok=True)\n",
    "dat_dir = '/work/aelek/data/'"
   ]
  },
  {
   "cell_type": "markdown",
   "metadata": {},
   "source": [
    "### 1. Gencode\n",
    "\n",
    "Genomes for human and mouse with high-quality manual annotation (includes splice variants):"
   ]
  },
  {
   "cell_type": "code",
   "execution_count": 2,
   "metadata": {},
   "outputs": [
    {
     "name": "stdout",
     "output_type": "stream",
     "text": [
      "Gencode genomes: 2\n"
     ]
    },
    {
     "data": {
      "text/plain": [
       "['Homo_sapiens', 'Mus_musculus']"
      ]
     },
     "execution_count": 2,
     "metadata": {},
     "output_type": "execute_result"
    }
   ],
   "source": [
    "gencode_genomes = []\n",
    "for root, dirs, files in os.walk(dat_dir+'gencode/fasta'):\n",
    "    for file in files:\n",
    "        if file.endswith('.fa.gz'):\n",
    "            gencode_genomes.append(os.path.splitext(os.path.splitext(file)[0])[0])\n",
    "\n",
    "gencode_genomes.sort()\n",
    "print(\"Gencode genomes:\", len(gencode_genomes))\n",
    "gencode_genomes"
   ]
  },
  {
   "cell_type": "markdown",
   "metadata": {},
   "source": [
    "### 2. Ensembl\n",
    "Genomes and automated annotations for mammals (taxonomy/40674):"
   ]
  },
  {
   "cell_type": "code",
   "execution_count": 3,
   "metadata": {},
   "outputs": [
    {
     "name": "stdout",
     "output_type": "stream",
     "text": [
      "Ensembl genomes: 128\n"
     ]
    },
    {
     "data": {
      "text/plain": [
       "['Ailuropoda_melanoleuca',\n",
       " 'Aotus_nancymaae',\n",
       " 'Balaenoptera_musculus',\n",
       " 'Bison_bison_bison',\n",
       " 'Bos_grunniens',\n",
       " 'Bos_indicus_hybrid',\n",
       " 'Bos_mutus',\n",
       " 'Bos_taurus',\n",
       " 'Bos_taurus_hybrid',\n",
       " 'Callithrix_jacchus']"
      ]
     },
     "execution_count": 3,
     "metadata": {},
     "output_type": "execute_result"
    }
   ],
   "source": [
    "# ensembl genomes\n",
    "ensembl_genomes = []\n",
    "for root, dirs, files in os.walk(dat_dir+'ensembl/fasta'):\n",
    "    for file in files:\n",
    "        if file.endswith('.fa.gz'):\n",
    "            # file name without extension\n",
    "            ensembl_genomes.append(os.path.splitext(os.path.splitext(file)[0])[0]) \n",
    "\n",
    "ensembl_genomes.sort()\n",
    "print(\"Ensembl genomes:\", len(ensembl_genomes))\n",
    "ensembl_genomes[0:10]"
   ]
  },
  {
   "cell_type": "markdown",
   "metadata": {},
   "source": [
    "### 3. Zoonomia"
   ]
  },
  {
   "cell_type": "code",
   "execution_count": 10,
   "metadata": {},
   "outputs": [
    {
     "name": "stdout",
     "output_type": "stream",
     "text": [
      "Zoonomia genomes: 241\n"
     ]
    },
    {
     "data": {
      "text/plain": [
       "['Acinonyx_jubatus',\n",
       " 'Acomys_cahirinus',\n",
       " 'Ailuropoda_melanoleuca',\n",
       " 'Ailurus_fulgens',\n",
       " 'Allactaga_bullata',\n",
       " 'Alouatta_palliata',\n",
       " 'Ammotragus_lervia',\n",
       " 'Anoura_caudifer',\n",
       " 'Antilocapra_americana',\n",
       " 'Aotus_nancymaae']"
      ]
     },
     "execution_count": 10,
     "metadata": {},
     "output_type": "execute_result"
    }
   ],
   "source": [
    "# Zoonomia genomes\n",
    "zoo_genomes = []\n",
    "for root, dirs, files in os.walk(dat_dir+'/zoonomia/genome/'):\n",
    "    for file in files:\n",
    "        if file.endswith('.fa'):\n",
    "            # file name without extension\n",
    "            sps = os.path.splitext(os.path.splitext(file)[0])[0]\n",
    "            if sps not in zoo_genomes:\n",
    "                zoo_genomes.append(sps) \n",
    "\n",
    "zoo_genomes.sort()\n",
    "print(\"Zoonomia genomes:\", len(zoo_genomes))\n",
    "zoo_genomes[0:10]"
   ]
  },
  {
   "cell_type": "markdown",
   "metadata": {},
   "source": [
    "### 4. TOGA\n",
    "Annotations for >600 mammalian genomes from various sources."
   ]
  },
  {
   "cell_type": "code",
   "execution_count": 4,
   "metadata": {},
   "outputs": [
    {
     "name": "stdout",
     "output_type": "stream",
     "text": [
      "source\n",
      "GenBank                  431\n",
      "Zoonomia                 109\n",
      "RefSeq                    97\n",
      "T2T primates               6\n",
      "link                       3\n",
      "TBG                        2\n",
      "CNGB Sequence Archive      1\n",
      "GIGADB                     1\n",
      "Name: count, dtype: int64\n"
     ]
    }
   ],
   "source": [
    "import pandas as pd\n",
    "meta=pd.read_csv(dat_dir+'zoonomia/overview.table.tsv', index_col=0, sep='\\t', names=['species', 'common_name', 'taxid', 'lineage', 'assembly_name', 'accession_or_url', 'contig_n50', 'scaffold_n50'])\n",
    "\n",
    "# Add column with the source of assembly\n",
    "meta['source'] = meta['accession_or_url']\n",
    "meta.loc[meta['accession_or_url'].str.contains('http|ftp'), 'source'] = 'link'\n",
    "meta.loc[meta['accession_or_url'].str.contains('DNA Zoo'), 'source'] = 'Zoonomia'\n",
    "meta.loc[meta['accession_or_url'].str.startswith('GCF'), 'source'] = 'RefSeq'\n",
    "meta.loc[meta['accession_or_url'].str.startswith('GCA'), 'source'] = 'GenBank'\n",
    "\n",
    "# Count the number of genomes per source\n",
    "source_counts = meta['source'].value_counts()\n",
    "print(source_counts)"
   ]
  },
  {
   "cell_type": "markdown",
   "metadata": {},
   "source": [
    "I download GenBank and RefSeq genomes from NCBI, and Zoonomia genomes from TOGA-provided repository (`download_toga_assemblies.sh`).   \n",
    "The remaining genomes I download manually."
   ]
  },
  {
   "cell_type": "code",
   "execution_count": 5,
   "metadata": {},
   "outputs": [
    {
     "data": {
      "text/html": [
       "<div>\n",
       "<style scoped>\n",
       "    .dataframe tbody tr th:only-of-type {\n",
       "        vertical-align: middle;\n",
       "    }\n",
       "\n",
       "    .dataframe tbody tr th {\n",
       "        vertical-align: top;\n",
       "    }\n",
       "\n",
       "    .dataframe thead th {\n",
       "        text-align: right;\n",
       "    }\n",
       "</style>\n",
       "<table border=\"1\" class=\"dataframe\">\n",
       "  <thead>\n",
       "    <tr style=\"text-align: right;\">\n",
       "      <th></th>\n",
       "      <th>common_name</th>\n",
       "      <th>taxid</th>\n",
       "      <th>lineage</th>\n",
       "      <th>assembly_name</th>\n",
       "      <th>accession_or_url</th>\n",
       "      <th>contig_n50</th>\n",
       "      <th>scaffold_n50</th>\n",
       "      <th>source</th>\n",
       "    </tr>\n",
       "    <tr>\n",
       "      <th>species</th>\n",
       "      <th></th>\n",
       "      <th></th>\n",
       "      <th></th>\n",
       "      <th></th>\n",
       "      <th></th>\n",
       "      <th></th>\n",
       "      <th></th>\n",
       "      <th></th>\n",
       "    </tr>\n",
       "  </thead>\n",
       "  <tbody>\n",
       "    <tr>\n",
       "      <th>Acomys cahirinus</th>\n",
       "      <td>Egyptian spiny mouse</td>\n",
       "      <td>10068</td>\n",
       "      <td>Mammalia; Theria; Eutheria; Boreoeutheria; Eua...</td>\n",
       "      <td>HLacoCah2</td>\n",
       "      <td>https://zenodo.org/record/7761277#.ZEKxiRVBwsw</td>\n",
       "      <td>57643754</td>\n",
       "      <td>127770522</td>\n",
       "      <td>link</td>\n",
       "    </tr>\n",
       "    <tr>\n",
       "      <th>Balaena mysticetus</th>\n",
       "      <td>bowhead whale</td>\n",
       "      <td>27602</td>\n",
       "      <td>Mammalia; Theria; Eutheria; Boreoeutheria; Lau...</td>\n",
       "      <td>HLbalMys1</td>\n",
       "      <td>http://alfred.liv.ac.uk/downloads/bowhead_whal...</td>\n",
       "      <td>33808</td>\n",
       "      <td>876686</td>\n",
       "      <td>link</td>\n",
       "    </tr>\n",
       "    <tr>\n",
       "      <th>Balaenoptera musculus</th>\n",
       "      <td>Blue whale</td>\n",
       "      <td>9771</td>\n",
       "      <td>Mammalia; Theria; Eutheria; Boreoeutheria; Lau...</td>\n",
       "      <td>HLbalMus3</td>\n",
       "      <td>CNGB Sequence Archive</td>\n",
       "      <td>94743</td>\n",
       "      <td>8279331</td>\n",
       "      <td>CNGB Sequence Archive</td>\n",
       "    </tr>\n",
       "    <tr>\n",
       "      <th>Eliomys quercinus</th>\n",
       "      <td>garden dormouse</td>\n",
       "      <td>53277</td>\n",
       "      <td>Mammalia; Theria; Eutheria; Boreoeutheria; Eua...</td>\n",
       "      <td>HLeliQue1A</td>\n",
       "      <td>TBG</td>\n",
       "      <td>51740598</td>\n",
       "      <td>108114398</td>\n",
       "      <td>TBG</td>\n",
       "    </tr>\n",
       "    <tr>\n",
       "      <th>Eliomys quercinus</th>\n",
       "      <td>garden dormouse</td>\n",
       "      <td>53277</td>\n",
       "      <td>Mammalia; Theria; Eutheria; Boreoeutheria; Eua...</td>\n",
       "      <td>HLeliQue1B</td>\n",
       "      <td>TBG</td>\n",
       "      <td>45399149</td>\n",
       "      <td>107541173</td>\n",
       "      <td>TBG</td>\n",
       "    </tr>\n",
       "    <tr>\n",
       "      <th>Gorilla gorilla</th>\n",
       "      <td>western gorilla</td>\n",
       "      <td>9593</td>\n",
       "      <td>Mammalia; Theria; Eutheria; Boreoeutheria; Eua...</td>\n",
       "      <td>HLgorGor7</td>\n",
       "      <td>T2T primates</td>\n",
       "      <td>150804130</td>\n",
       "      <td>150804130</td>\n",
       "      <td>T2T primates</td>\n",
       "    </tr>\n",
       "    <tr>\n",
       "      <th>Leptonycteris yerbabuenae</th>\n",
       "      <td>Lesser long-nosed bat</td>\n",
       "      <td>700936</td>\n",
       "      <td>Mammalia; Theria; Eutheria; Boreoeutheria; Lau...</td>\n",
       "      <td>HLlepYer1</td>\n",
       "      <td>GIGADB</td>\n",
       "      <td>37711</td>\n",
       "      <td>14735151</td>\n",
       "      <td>GIGADB</td>\n",
       "    </tr>\n",
       "    <tr>\n",
       "      <th>Loxodonta africana</th>\n",
       "      <td>African savanna elephant</td>\n",
       "      <td>9785</td>\n",
       "      <td>Mammalia; Theria; Eutheria; Afrotheria; Probos...</td>\n",
       "      <td>HLloxAfr4</td>\n",
       "      <td>ftp://ftp.broadinstitute.org/pub/assemblies/ma...</td>\n",
       "      <td>65481</td>\n",
       "      <td>94531929</td>\n",
       "      <td>link</td>\n",
       "    </tr>\n",
       "    <tr>\n",
       "      <th>Pan paniscus</th>\n",
       "      <td>pygmy chimpanzee</td>\n",
       "      <td>9597</td>\n",
       "      <td>Mammalia; Theria; Eutheria; Boreoeutheria; Eua...</td>\n",
       "      <td>HLpanPan4</td>\n",
       "      <td>T2T primates</td>\n",
       "      <td>147028407</td>\n",
       "      <td>147028407</td>\n",
       "      <td>T2T primates</td>\n",
       "    </tr>\n",
       "    <tr>\n",
       "      <th>Pan troglodytes</th>\n",
       "      <td>chimpanzee</td>\n",
       "      <td>9598</td>\n",
       "      <td>Mammalia; Theria; Eutheria; Boreoeutheria; Eua...</td>\n",
       "      <td>HLpanTro7</td>\n",
       "      <td>T2T primates</td>\n",
       "      <td>146288486</td>\n",
       "      <td>146288486</td>\n",
       "      <td>T2T primates</td>\n",
       "    </tr>\n",
       "    <tr>\n",
       "      <th>Pongo abelii</th>\n",
       "      <td>Sumatran orangutan</td>\n",
       "      <td>9601</td>\n",
       "      <td>Mammalia; Theria; Eutheria; Boreoeutheria; Eua...</td>\n",
       "      <td>HLponAbe4</td>\n",
       "      <td>T2T primates</td>\n",
       "      <td>146197178</td>\n",
       "      <td>146197178</td>\n",
       "      <td>T2T primates</td>\n",
       "    </tr>\n",
       "    <tr>\n",
       "      <th>Pongo pygmaeus</th>\n",
       "      <td>Bornean orangutan</td>\n",
       "      <td>9600</td>\n",
       "      <td>Mammalia; Theria; Eutheria; Boreoeutheria; Eua...</td>\n",
       "      <td>HLponPyg2</td>\n",
       "      <td>T2T primates</td>\n",
       "      <td>140592248</td>\n",
       "      <td>143261986</td>\n",
       "      <td>T2T primates</td>\n",
       "    </tr>\n",
       "    <tr>\n",
       "      <th>Symphalangus syndactylus</th>\n",
       "      <td>siamang</td>\n",
       "      <td>9590</td>\n",
       "      <td>Mammalia; Theria; Eutheria; Boreoeutheria; Eua...</td>\n",
       "      <td>HLsymSyn4</td>\n",
       "      <td>T2T primates</td>\n",
       "      <td>146713733</td>\n",
       "      <td>146713733</td>\n",
       "      <td>T2T primates</td>\n",
       "    </tr>\n",
       "  </tbody>\n",
       "</table>\n",
       "</div>"
      ],
      "text/plain": [
       "                                        common_name   taxid  \\\n",
       "species                                                       \n",
       "Acomys cahirinus               Egyptian spiny mouse   10068   \n",
       "Balaena mysticetus                    bowhead whale   27602   \n",
       "Balaenoptera musculus                    Blue whale    9771   \n",
       "Eliomys quercinus                   garden dormouse   53277   \n",
       "Eliomys quercinus                   garden dormouse   53277   \n",
       "Gorilla gorilla                     western gorilla    9593   \n",
       "Leptonycteris yerbabuenae     Lesser long-nosed bat  700936   \n",
       "Loxodonta africana         African savanna elephant    9785   \n",
       "Pan paniscus                       pygmy chimpanzee    9597   \n",
       "Pan troglodytes                          chimpanzee    9598   \n",
       "Pongo abelii                     Sumatran orangutan    9601   \n",
       "Pongo pygmaeus                    Bornean orangutan    9600   \n",
       "Symphalangus syndactylus                    siamang    9590   \n",
       "\n",
       "                                                                     lineage  \\\n",
       "species                                                                        \n",
       "Acomys cahirinus           Mammalia; Theria; Eutheria; Boreoeutheria; Eua...   \n",
       "Balaena mysticetus         Mammalia; Theria; Eutheria; Boreoeutheria; Lau...   \n",
       "Balaenoptera musculus      Mammalia; Theria; Eutheria; Boreoeutheria; Lau...   \n",
       "Eliomys quercinus          Mammalia; Theria; Eutheria; Boreoeutheria; Eua...   \n",
       "Eliomys quercinus          Mammalia; Theria; Eutheria; Boreoeutheria; Eua...   \n",
       "Gorilla gorilla            Mammalia; Theria; Eutheria; Boreoeutheria; Eua...   \n",
       "Leptonycteris yerbabuenae  Mammalia; Theria; Eutheria; Boreoeutheria; Lau...   \n",
       "Loxodonta africana         Mammalia; Theria; Eutheria; Afrotheria; Probos...   \n",
       "Pan paniscus               Mammalia; Theria; Eutheria; Boreoeutheria; Eua...   \n",
       "Pan troglodytes            Mammalia; Theria; Eutheria; Boreoeutheria; Eua...   \n",
       "Pongo abelii               Mammalia; Theria; Eutheria; Boreoeutheria; Eua...   \n",
       "Pongo pygmaeus             Mammalia; Theria; Eutheria; Boreoeutheria; Eua...   \n",
       "Symphalangus syndactylus   Mammalia; Theria; Eutheria; Boreoeutheria; Eua...   \n",
       "\n",
       "                          assembly_name  \\\n",
       "species                                   \n",
       "Acomys cahirinus              HLacoCah2   \n",
       "Balaena mysticetus            HLbalMys1   \n",
       "Balaenoptera musculus         HLbalMus3   \n",
       "Eliomys quercinus            HLeliQue1A   \n",
       "Eliomys quercinus            HLeliQue1B   \n",
       "Gorilla gorilla               HLgorGor7   \n",
       "Leptonycteris yerbabuenae     HLlepYer1   \n",
       "Loxodonta africana            HLloxAfr4   \n",
       "Pan paniscus                  HLpanPan4   \n",
       "Pan troglodytes               HLpanTro7   \n",
       "Pongo abelii                  HLponAbe4   \n",
       "Pongo pygmaeus                HLponPyg2   \n",
       "Symphalangus syndactylus      HLsymSyn4   \n",
       "\n",
       "                                                            accession_or_url  \\\n",
       "species                                                                        \n",
       "Acomys cahirinus              https://zenodo.org/record/7761277#.ZEKxiRVBwsw   \n",
       "Balaena mysticetus         http://alfred.liv.ac.uk/downloads/bowhead_whal...   \n",
       "Balaenoptera musculus                                  CNGB Sequence Archive   \n",
       "Eliomys quercinus                                                        TBG   \n",
       "Eliomys quercinus                                                        TBG   \n",
       "Gorilla gorilla                                                 T2T primates   \n",
       "Leptonycteris yerbabuenae                                             GIGADB   \n",
       "Loxodonta africana         ftp://ftp.broadinstitute.org/pub/assemblies/ma...   \n",
       "Pan paniscus                                                    T2T primates   \n",
       "Pan troglodytes                                                 T2T primates   \n",
       "Pongo abelii                                                    T2T primates   \n",
       "Pongo pygmaeus                                                  T2T primates   \n",
       "Symphalangus syndactylus                                        T2T primates   \n",
       "\n",
       "                           contig_n50  scaffold_n50                 source  \n",
       "species                                                                     \n",
       "Acomys cahirinus             57643754     127770522                   link  \n",
       "Balaena mysticetus              33808        876686                   link  \n",
       "Balaenoptera musculus           94743       8279331  CNGB Sequence Archive  \n",
       "Eliomys quercinus            51740598     108114398                    TBG  \n",
       "Eliomys quercinus            45399149     107541173                    TBG  \n",
       "Gorilla gorilla             150804130     150804130           T2T primates  \n",
       "Leptonycteris yerbabuenae       37711      14735151                 GIGADB  \n",
       "Loxodonta africana              65481      94531929                   link  \n",
       "Pan paniscus                147028407     147028407           T2T primates  \n",
       "Pan troglodytes             146288486     146288486           T2T primates  \n",
       "Pongo abelii                146197178     146197178           T2T primates  \n",
       "Pongo pygmaeus              140592248     143261986           T2T primates  \n",
       "Symphalangus syndactylus    146713733     146713733           T2T primates  "
      ]
     },
     "execution_count": 5,
     "metadata": {},
     "output_type": "execute_result"
    }
   ],
   "source": [
    "meta.loc[meta['source'].isin(['CNGB Sequence Archive', 'GIGADB', 'TBG', 'link', 'T2T primates'])]"
   ]
  },
  {
   "cell_type": "code",
   "execution_count": 6,
   "metadata": {},
   "outputs": [
    {
     "data": {
      "text/plain": [
       "species\n",
       "Balaena mysticetus    http://alfred.liv.ac.uk/downloads/bowhead_whal...\n",
       "Name: accession_or_url, dtype: object"
      ]
     },
     "execution_count": 6,
     "metadata": {},
     "output_type": "execute_result"
    }
   ],
   "source": [
    "meta.loc[meta.index==\"Balaena mysticetus\"]['accession_or_url']"
   ]
  },
  {
   "cell_type": "markdown",
   "metadata": {},
   "source": [
    "Count downloaded TOGA-annotated genomes per species."
   ]
  },
  {
   "cell_type": "code",
   "execution_count": 23,
   "metadata": {},
   "outputs": [
    {
     "name": "stdout",
     "output_type": "stream",
     "text": [
      "TOGA genomes: 467\n"
     ]
    },
    {
     "data": {
      "text/plain": [
       "['Acinonyx_jubatus',\n",
       " 'Acomys_cahirinus',\n",
       " 'Acomys_dimidiatus',\n",
       " 'Acomys_russatus',\n",
       " 'Aepyceros_melampus',\n",
       " 'Ailuropoda_melanoleuca',\n",
       " 'Ailurus_fulgens',\n",
       " 'Alces_alces',\n",
       " 'Allactaga_bullata',\n",
       " 'Allenopithecus_nigroviridis']"
      ]
     },
     "execution_count": 23,
     "metadata": {},
     "output_type": "execute_result"
    }
   ],
   "source": [
    "# TOGA genomes\n",
    "toga_genomes = []\n",
    "for root, dirs, files in os.walk(dat_dir+'/zoonomia/ncbi/fasta'):\n",
    "    for file in files:\n",
    "        if file.endswith('.fa.gz'):\n",
    "            # file name without extension\n",
    "            sps_asn = os.path.splitext(os.path.splitext(file)[0])[0]\n",
    "            sps, asn = sps_asn.split('__')\n",
    "            if sps not in toga_genomes:\n",
    "                toga_genomes.append(sps) \n",
    "\n",
    "toga_genomes.sort()\n",
    "print(\"TOGA genomes:\", len(toga_genomes))\n",
    "toga_genomes[0:10]"
   ]
  },
  {
   "cell_type": "markdown",
   "metadata": {},
   "source": [
    "### All genomes\n",
    "Next, compare how many genomes are overlapping between Gencode, Ensembl and TOGA."
   ]
  },
  {
   "cell_type": "code",
   "execution_count": 24,
   "metadata": {},
   "outputs": [
    {
     "name": "stdout",
     "output_type": "stream",
     "text": [
      "Total unique genomes: 550\n"
     ]
    },
    {
     "data": {
      "image/png": "[encoded data removed]",
      "text/plain": [
       "<Figure size 640x480 with 1 Axes>"
      ]
     },
     "metadata": {},
     "output_type": "display_data"
    }
   ],
   "source": [
    "# Unique set of genomes from ensembl and zoonomia\n",
    "all_genomes = set(ensembl_genomes + zoo_genomes + toga_genomes)\n",
    "all_genomes = sorted(all_genomes)\n",
    "print(f'Total unique genomes: {len(all_genomes)}')\n",
    "\n",
    "import matplotlib.pyplot as plt\n",
    "from matplotlib_venn import venn3\n",
    "\n",
    "venn3([set(ensembl_genomes), set(zoo_genomes), set(toga_genomes)],\n",
    "      ('Ensembl', 'Zoonomia', 'TOGA'))\n",
    "plt.title(f'Genomes for {len(all_genomes)} mammals')\n",
    "plt.savefig(plt_dir + '/genome_overlap.png')\n",
    "plt.show()"
   ]
  },
  {
   "cell_type": "code",
   "execution_count": 16,
   "metadata": {},
   "outputs": [
    {
     "name": "stdout",
     "output_type": "stream",
     "text": [
      "Balaenoptera_acutorostrata\n",
      "Bison_bison\n",
      "Callicebus_donacophilus\n",
      "Canis_lupus\n",
      "Capromys_pilorides\n",
      "Cebus_capucinus\n",
      "Ceratotherium_simum\n",
      "Chaetophractus_vellerosus\n",
      "Colobus_angolensis\n",
      "Crocidura_indochinensis\n",
      "Cuniculus_paca\n",
      "Desmodus_rotundus\n",
      "Dicerorhinus_sumatrensis\n",
      "Enhydra_lutris\n",
      "Gorilla_gorilla\n",
      "Homo_sapiens\n",
      "Loxodonta_africana\n",
      "Marmota_marmota\n",
      "Megaderma_lyra\n",
      "Murina_feae\n",
      "Neophocaena_asiaeorientalis\n",
      "Orycteropus_afer\n",
      "Panthera_tigris\n",
      "Perognathus_longimembris\n",
      "Peromyscus_maniculatus\n",
      "Spilogale_gracilis\n",
      "Suricata_suricatta\n",
      "Sus_scrofa\n",
      "Tadarida_brasiliensis\n",
      "Tamandua_tetradactyla\n",
      "Tapirus_indicus\n",
      "Tapirus_terrestris\n",
      "Thryonomys_swinderianus\n",
      "Tolypeutes_matacus\n",
      "Tonatia_saurophila\n",
      "Tragulus_javanicus\n",
      "Trichechus_manatus\n",
      "Tupaia_chinensis\n",
      "Tupaia_tana\n",
      "Tursiops_truncatus\n",
      "Uropsilus_gracilis\n",
      "Ursus_maritimus\n",
      "Vicugna_pacos\n",
      "Vulpes_lagopus\n",
      "Xerus_inauris\n",
      "Zalophus_californianus\n",
      "Zapus_hudsonius\n",
      "Ziphius_cavirostris\n"
     ]
    }
   ],
   "source": [
    "for genome in zoo_genomes:\n",
    "    if genome not in toga_genomes:\n",
    "        print(f'{genome}')"
   ]
  },
  {
   "cell_type": "markdown",
   "metadata": {},
   "source": [
    "TOGA annotation often use different chromosome names. How many of TOGA names we can map to genomes?"
   ]
  },
  {
   "cell_type": "code",
   "execution_count": 11,
   "metadata": {},
   "outputs": [
    {
     "name": "stdout",
     "output_type": "stream",
     "text": [
      "Genomes with mapped TOGA annotation: 59\n",
      "Total unique genomes: 172\n"
     ]
    },
    {
     "data": {
      "image/png": "[encoded data removed]",
      "text/plain": [
       "<Figure size 640x480 with 1 Axes>"
      ]
     },
     "metadata": {},
     "output_type": "display_data"
    }
   ],
   "source": [
    "# toga annotated genomes\n",
    "toga_annotated_genomes = []\n",
    "for root, dirs, files in os.walk(dat_dir+'/zoonomia/toga_mapped'):\n",
    "    for file in files:\n",
    "        if file.endswith('.gtf.gz'):\n",
    "            # file name without extension\n",
    "            sps_asn = os.path.splitext(os.path.splitext(file)[0])[0]\n",
    "            sps, asn = sps_asn.split('__')\n",
    "            toga_annotated_genomes.append(sps) \n",
    "\n",
    "toga_annotated_genomes.sort()\n",
    "print(\"Genomes with mapped TOGA annotation:\", len(toga_annotated_genomes))\n",
    "\n",
    "all_genomes = set(gencode_genomes + ensembl_genomes + toga_annotated_genomes)\n",
    "all_genomes = sorted(all_genomes)\n",
    "print(f'Total unique genomes: {len(all_genomes)}')\n",
    "\n",
    "import matplotlib.pyplot as plt\n",
    "from matplotlib_venn import venn3\n",
    "\n",
    "venn3([set(gencode_genomes), set(ensembl_genomes), set(toga_annotated_genomes)],\n",
    "      ('Gencode', 'Ensembl', 'TOGA'))\n",
    "plt.title(f'Genomes for {len(all_genomes)} mammals')\n",
    "plt.savefig(plt_dir + '/genome_annot_overlap.png')\n",
    "plt.show()"
   ]
  },
  {
   "cell_type": "markdown",
   "metadata": {},
   "source": [
    "I will use Gencode for human and mouse, all Ensembl genomes, and supplement with additional ones from TOGA."
   ]
  },
  {
   "cell_type": "code",
   "execution_count": 7,
   "metadata": {},
   "outputs": [],
   "source": [
    "# make a dictionary mapping between genome names and their respective fasta, fai, and gtf files\n",
    "genome_dict = {}\n",
    "\n",
    "for sp in all_genomes:\n",
    "    if sp in gencode_genomes:\n",
    "        source_sp = 'gencode'\n",
    "        fasta_fn = f'{dat_dir}/gencode/fasta/{sp}.fa.gz'\n",
    "        fai_fn = f'{dat_dir}/gencode/fasta/{sp}.fa.gz.fai'\n",
    "        gtf_fn = f'{dat_dir}/gencode/gtf/{sp}.gtf.gz'\n",
    "    elif sp in ensembl_genomes:\n",
    "        source_sp = 'ensembl'\n",
    "        fasta_fn = f'{dat_dir}/ensembl/fasta/{sp}.fa.gz'\n",
    "        fai_fn = f'{dat_dir}/ensembl/fasta/{sp}.fa.gz.fai'\n",
    "        gtf_fn = f'{dat_dir}/ensembl/gtf/{sp}.gtf.gz'\n",
    "    elif sp in toga_zoonomia_genomes:\n",
    "        source_sp = 'zoonomia'\n",
    "        fasta_fn = f'{dat_dir}/zoonomia/fasta/{sp}.fa'\n",
    "        fai_fn = f'{dat_dir}/zoonomia/fasta/{sp}.fa.fai'\n",
    "        gtf_fn = f'{dat_dir}/zoonomia/gtf/{sp}.gtf.gz'\n",
    "    else:\n",
    "        print(f\"{sp} not found in any database.\")\n",
    "\n",
    "    # Check if files exist\n",
    "    for fn in [fasta_fn, fai_fn, gtf_fn]:\n",
    "        if not os.path.exists(fn):\n",
    "            print(f\"Warning: {fn} does not exist.\")\n",
    "    \n",
    "    # Add to the dictionary\n",
    "    genome_dict[sp] = {\n",
    "        'source': source_sp,\n",
    "        'fasta': fasta_fn,\n",
    "        'fai': fai_fn,\n",
    "        'gtf': gtf_fn\n",
    "    }"
   ]
  },
  {
   "cell_type": "markdown",
   "metadata": {},
   "source": [
    "Quantify sources of genomes"
   ]
  },
  {
   "cell_type": "code",
   "execution_count": null,
   "metadata": {},
   "outputs": [],
   "source": [
    "# Count different genome sources\n",
    "source_counts = {}\n",
    "for sp in genome_dict:\n",
    "    source = genome_dict[sp]['source']\n",
    "    if source not in source_counts:\n",
    "        source_counts[source] = 0\n",
    "    source_counts[source] += 1\n",
    "\n",
    "print(\"Genome sources:\")\n",
    "for source, count in source_counts.items():\n",
    "    print(f\"{source}: {count}\")\n"
   ]
  },
  {
   "cell_type": "markdown",
   "metadata": {},
   "source": [
    "TO-DO: \n",
    "- try to inspect and improve species and chr mapping \n",
    "- compare assembly/annotations between Ensembl and Zoonomia/TOGA"
   ]
  },
  {
   "cell_type": "markdown",
   "metadata": {},
   "source": [
    "## QC filtering of genome annotations\n",
    "\n",
    "We will only keep:\n",
    "\n",
    "- protein coding genes\n",
    "- use TSL or other quality flags if available."
   ]
  },
  {
   "cell_type": "code",
   "execution_count": 12,
   "metadata": {},
   "outputs": [
    {
     "data": {
      "text/plain": [
       "'/work/aelek/data//gencode/gtf/Homo_sapiens.gtf.gz'"
      ]
     },
     "execution_count": 12,
     "metadata": {},
     "output_type": "execute_result"
    }
   ],
   "source": [
    "gtf_fn = genome_dict['Homo_sapiens']['gtf']\n",
    "\n",
    "# Read annotations gtf_fn\n"
   ]
  }
 ],
 "metadata": {
  "kernelspec": {
   "display_name": "base",
   "language": "python",
   "name": "python3"
  },
  "language_info": {
   "codemirror_mode": {
    "name": "ipython",
    "version": 3
   },
   "file_extension": ".py",
   "mimetype": "text/x-python",
   "name": "python",
   "nbconvert_exporter": "python",
   "pygments_lexer": "ipython3",
   "version": "3.13.5"
  }
 },
 "nbformat": 4,
 "nbformat_minor": 2
}
