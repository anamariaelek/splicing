{
 "cells": [
  {
   "cell_type": "markdown",
   "metadata": {},
   "source": [
    "Here I load and parse the input genomes and gene annotations files for pretraining the model."
   ]
  },
  {
   "cell_type": "code",
   "execution_count": 1,
   "metadata": {},
   "outputs": [],
   "source": [
    "%reload_ext autoreload\n",
    "%autoreload 2\n",
    "\n",
    "# Load package utils\n",
    "from splicevo.io.utils import load_json\n",
    "\n",
    "# Dictionary of genomes with paths to files\n",
    "genome_dict_fn = \"/work/aelek/projects/splicing/data/genomes.txt\"\n",
    "\n",
    "genome_dict = load_json(genome_dict_fn)\n",
    "\n",
    "# Downloaded genomes data\n",
    "genome_dir = \"/work/aelek/projects/splicing/data/genomes\""
   ]
  },
  {
   "cell_type": "markdown",
   "metadata": {},
   "source": [
    "### Load gene annotations"
   ]
  },
  {
   "cell_type": "markdown",
   "metadata": {},
   "source": [
    "We have 3 sources of GTF files"
   ]
  },
  {
   "cell_type": "code",
   "execution_count": 2,
   "metadata": {},
   "outputs": [
    {
     "data": {
      "text/plain": [
       "source\n",
       "mazin        6\n",
       "ensembl    122\n",
       "toga       275\n",
       "dtype: int64"
      ]
     },
     "execution_count": 2,
     "metadata": {},
     "output_type": "execute_result"
    }
   ],
   "source": [
    "from pandas import DataFrame\n",
    "\n",
    "genome_data = DataFrame.from_dict(genome_dict, orient='index')\n",
    "genome_data.groupby(\"source\").size().sort_values()"
   ]
  },
  {
   "cell_type": "markdown",
   "metadata": {},
   "source": [
    "In Ensembl gtf files, the coordinates are 1-based, and both start and end are inclusive. So, for sequence `ACGT`, the record: `chr1 1 3` will correspond to `ACG`.  \n",
    "Mazin genomes are gtf files based on Ensembl annotations, and Toga annotation gtfs follow the same rules.\n",
    "\n",
    "However, different files have different records features. We load them here to inspect."
   ]
  },
  {
   "cell_type": "code",
   "execution_count": 3,
   "metadata": {},
   "outputs": [
    {
     "data": {
      "text/plain": [
       "['transcript', 'exon']"
      ]
     },
     "execution_count": 3,
     "metadata": {},
     "output_type": "execute_result"
    }
   ],
   "source": [
    "import pandas as pd\n",
    "from helpers import read_gtf\n",
    "\n",
    "species = genome_data.query(\"source == 'mazin'\").index[0]\n",
    "gtf_mazin = read_gtf(genome_dict[species][\"gtf\"])\n",
    "gtf_mazin['feature'].unique().tolist()\n"
   ]
  },
  {
   "cell_type": "code",
   "execution_count": 4,
   "metadata": {},
   "outputs": [
    {
     "data": {
      "text/plain": [
       "['transcript', 'exon', 'CDS', 'start_codon', 'stop_codon']"
      ]
     },
     "execution_count": 4,
     "metadata": {},
     "output_type": "execute_result"
    }
   ],
   "source": [
    "# Select the species with toga annotations\n",
    "species = genome_data.query(\"source == 'toga'\").index[0]\n",
    "gtf_toga = read_gtf(genome_dict[species][\"gtf\"])\n",
    "gtf_toga['feature'].unique().tolist()"
   ]
  },
  {
   "cell_type": "code",
   "execution_count": 5,
   "metadata": {},
   "outputs": [
    {
     "data": {
      "text/plain": [
       "['gene',\n",
       " 'transcript',\n",
       " 'exon',\n",
       " 'CDS',\n",
       " 'stop_codon',\n",
       " 'start_codon',\n",
       " 'five_prime_utr',\n",
       " 'three_prime_utr']"
      ]
     },
     "execution_count": 5,
     "metadata": {},
     "output_type": "execute_result"
    }
   ],
   "source": [
    "# Select the species with toga annotations\n",
    "species = genome_data.query(\"source == 'ensembl'\").index[0]\n",
    "gtf_ensembl = read_gtf(genome_dict[species][\"gtf\"])\n",
    "gtf_ensembl['feature'].unique().tolist()"
   ]
  },
  {
   "cell_type": "markdown",
   "metadata": {},
   "source": [
    "To process gtf files, I define `GTFProcessor` class in splicevo package, and `Transcript` class to parse splice sites coordinates from each transcript. "
   ]
  },
  {
   "cell_type": "code",
   "execution_count": 6,
   "metadata": {},
   "outputs": [
    {
     "name": "stdout",
     "output_type": "stream",
     "text": [
      "Loading GTF file...\n",
      "Loaded 36517 GTF records\n"
     ]
    },
    {
     "data": {
      "text/html": [
       "<div>\n",
       "<style scoped>\n",
       "    .dataframe tbody tr th:only-of-type {\n",
       "        vertical-align: middle;\n",
       "    }\n",
       "\n",
       "    .dataframe tbody tr th {\n",
       "        vertical-align: top;\n",
       "    }\n",
       "\n",
       "    .dataframe thead th {\n",
       "        text-align: right;\n",
       "    }\n",
       "</style>\n",
       "<table border=\"1\" class=\"dataframe\">\n",
       "  <thead>\n",
       "    <tr style=\"text-align: right;\">\n",
       "      <th></th>\n",
       "      <th>chrom</th>\n",
       "      <th>source</th>\n",
       "      <th>feature</th>\n",
       "      <th>start</th>\n",
       "      <th>end</th>\n",
       "      <th>score</th>\n",
       "      <th>strand</th>\n",
       "      <th>frame</th>\n",
       "      <th>gene_id</th>\n",
       "      <th>transcript_id</th>\n",
       "      <th>exon_number</th>\n",
       "    </tr>\n",
       "  </thead>\n",
       "  <tbody>\n",
       "    <tr>\n",
       "      <th>0</th>\n",
       "      <td>21</td>\n",
       "      <td>StringTie</td>\n",
       "      <td>transcript</td>\n",
       "      <td>9548317</td>\n",
       "      <td>9548827</td>\n",
       "      <td>1000</td>\n",
       "      <td>+</td>\n",
       "      <td>.</td>\n",
       "      <td>hum.40401</td>\n",
       "      <td>hum.40401.1</td>\n",
       "      <td>NaN</td>\n",
       "    </tr>\n",
       "    <tr>\n",
       "      <th>1</th>\n",
       "      <td>21</td>\n",
       "      <td>StringTie</td>\n",
       "      <td>exon</td>\n",
       "      <td>9548317</td>\n",
       "      <td>9548827</td>\n",
       "      <td>1000</td>\n",
       "      <td>+</td>\n",
       "      <td>.</td>\n",
       "      <td>hum.40401</td>\n",
       "      <td>hum.40401.1</td>\n",
       "      <td>1</td>\n",
       "    </tr>\n",
       "    <tr>\n",
       "      <th>2</th>\n",
       "      <td>21</td>\n",
       "      <td>StringTie</td>\n",
       "      <td>transcript</td>\n",
       "      <td>9438205</td>\n",
       "      <td>9454931</td>\n",
       "      <td>1000</td>\n",
       "      <td>+</td>\n",
       "      <td>.</td>\n",
       "      <td>hum.40405</td>\n",
       "      <td>hum.40405.1</td>\n",
       "      <td>NaN</td>\n",
       "    </tr>\n",
       "    <tr>\n",
       "      <th>3</th>\n",
       "      <td>21</td>\n",
       "      <td>StringTie</td>\n",
       "      <td>exon</td>\n",
       "      <td>9438205</td>\n",
       "      <td>9439580</td>\n",
       "      <td>1000</td>\n",
       "      <td>+</td>\n",
       "      <td>.</td>\n",
       "      <td>hum.40405</td>\n",
       "      <td>hum.40405.1</td>\n",
       "      <td>1</td>\n",
       "    </tr>\n",
       "    <tr>\n",
       "      <th>4</th>\n",
       "      <td>21</td>\n",
       "      <td>StringTie</td>\n",
       "      <td>exon</td>\n",
       "      <td>9439897</td>\n",
       "      <td>9442444</td>\n",
       "      <td>1000</td>\n",
       "      <td>+</td>\n",
       "      <td>.</td>\n",
       "      <td>hum.40405</td>\n",
       "      <td>hum.40405.1</td>\n",
       "      <td>2</td>\n",
       "    </tr>\n",
       "    <tr>\n",
       "      <th>...</th>\n",
       "      <td>...</td>\n",
       "      <td>...</td>\n",
       "      <td>...</td>\n",
       "      <td>...</td>\n",
       "      <td>...</td>\n",
       "      <td>...</td>\n",
       "      <td>...</td>\n",
       "      <td>...</td>\n",
       "      <td>...</td>\n",
       "      <td>...</td>\n",
       "      <td>...</td>\n",
       "    </tr>\n",
       "    <tr>\n",
       "      <th>36512</th>\n",
       "      <td>21</td>\n",
       "      <td>StringTie</td>\n",
       "      <td>exon</td>\n",
       "      <td>48024926</td>\n",
       "      <td>48025093</td>\n",
       "      <td>1000</td>\n",
       "      <td>-</td>\n",
       "      <td>.</td>\n",
       "      <td>hum.41653</td>\n",
       "      <td>hum.41653.2</td>\n",
       "      <td>3</td>\n",
       "    </tr>\n",
       "    <tr>\n",
       "      <th>36513</th>\n",
       "      <td>21</td>\n",
       "      <td>StringTie</td>\n",
       "      <td>transcript</td>\n",
       "      <td>48019175</td>\n",
       "      <td>48024987</td>\n",
       "      <td>1000</td>\n",
       "      <td>+</td>\n",
       "      <td>.</td>\n",
       "      <td>hum.41654</td>\n",
       "      <td>hum.41654.1</td>\n",
       "      <td>NaN</td>\n",
       "    </tr>\n",
       "    <tr>\n",
       "      <th>36514</th>\n",
       "      <td>21</td>\n",
       "      <td>StringTie</td>\n",
       "      <td>exon</td>\n",
       "      <td>48019175</td>\n",
       "      <td>48019416</td>\n",
       "      <td>1000</td>\n",
       "      <td>+</td>\n",
       "      <td>.</td>\n",
       "      <td>hum.41654</td>\n",
       "      <td>hum.41654.1</td>\n",
       "      <td>1</td>\n",
       "    </tr>\n",
       "    <tr>\n",
       "      <th>36515</th>\n",
       "      <td>21</td>\n",
       "      <td>StringTie</td>\n",
       "      <td>exon</td>\n",
       "      <td>48022191</td>\n",
       "      <td>48022329</td>\n",
       "      <td>1000</td>\n",
       "      <td>+</td>\n",
       "      <td>.</td>\n",
       "      <td>hum.41654</td>\n",
       "      <td>hum.41654.1</td>\n",
       "      <td>2</td>\n",
       "    </tr>\n",
       "    <tr>\n",
       "      <th>36516</th>\n",
       "      <td>21</td>\n",
       "      <td>StringTie</td>\n",
       "      <td>exon</td>\n",
       "      <td>48024926</td>\n",
       "      <td>48024987</td>\n",
       "      <td>1000</td>\n",
       "      <td>+</td>\n",
       "      <td>.</td>\n",
       "      <td>hum.41654</td>\n",
       "      <td>hum.41654.1</td>\n",
       "      <td>3</td>\n",
       "    </tr>\n",
       "  </tbody>\n",
       "</table>\n",
       "<p>36517 rows × 11 columns</p>\n",
       "</div>"
      ],
      "text/plain": [
       "      chrom     source     feature     start       end score strand frame  \\\n",
       "0        21  StringTie  transcript   9548317   9548827  1000      +     .   \n",
       "1        21  StringTie        exon   9548317   9548827  1000      +     .   \n",
       "2        21  StringTie  transcript   9438205   9454931  1000      +     .   \n",
       "3        21  StringTie        exon   9438205   9439580  1000      +     .   \n",
       "4        21  StringTie        exon   9439897   9442444  1000      +     .   \n",
       "...     ...        ...         ...       ...       ...   ...    ...   ...   \n",
       "36512    21  StringTie        exon  48024926  48025093  1000      -     .   \n",
       "36513    21  StringTie  transcript  48019175  48024987  1000      +     .   \n",
       "36514    21  StringTie        exon  48019175  48019416  1000      +     .   \n",
       "36515    21  StringTie        exon  48022191  48022329  1000      +     .   \n",
       "36516    21  StringTie        exon  48024926  48024987  1000      +     .   \n",
       "\n",
       "         gene_id transcript_id exon_number  \n",
       "0      hum.40401   hum.40401.1         NaN  \n",
       "1      hum.40401   hum.40401.1           1  \n",
       "2      hum.40405   hum.40405.1         NaN  \n",
       "3      hum.40405   hum.40405.1           1  \n",
       "4      hum.40405   hum.40405.1           2  \n",
       "...          ...           ...         ...  \n",
       "36512  hum.41653   hum.41653.2           3  \n",
       "36513  hum.41654   hum.41654.1         NaN  \n",
       "36514  hum.41654   hum.41654.1           1  \n",
       "36515  hum.41654   hum.41654.1           2  \n",
       "36516  hum.41654   hum.41654.1           3  \n",
       "\n",
       "[36517 rows x 11 columns]"
      ]
     },
     "execution_count": 6,
     "metadata": {},
     "output_type": "execute_result"
    }
   ],
   "source": [
    "from splicevo.io.gene_annotation import GTFProcessor\n",
    "\n",
    "species = \"Homo_sapiens\"\n",
    "gtf_path = genome_dict[species][\"gtf\"]\n",
    "test_chromosomes = [\"21\"]\n",
    "\n",
    "gtf = GTFProcessor(gtf_path)\n",
    "gtf_df = gtf.load_gtf(test_chromosomes)\n",
    "gtf_df"
   ]
  },
  {
   "cell_type": "code",
   "execution_count": null,
   "metadata": {},
   "outputs": [],
   "source": [
    "gtf_df = gtf.filter_high_confidence(gtf_df)\n",
    "transcripts = gtf.get_transcripts(gtf_df)\n",
    "transcripts"
   ]
  },
  {
   "cell_type": "code",
   "execution_count": 8,
   "metadata": {},
   "outputs": [
    {
     "data": {
      "text/html": [
       "<div>\n",
       "<style scoped>\n",
       "    .dataframe tbody tr th:only-of-type {\n",
       "        vertical-align: middle;\n",
       "    }\n",
       "\n",
       "    .dataframe tbody tr th {\n",
       "        vertical-align: top;\n",
       "    }\n",
       "\n",
       "    .dataframe thead th {\n",
       "        text-align: right;\n",
       "    }\n",
       "</style>\n",
       "<table border=\"1\" class=\"dataframe\">\n",
       "  <thead>\n",
       "    <tr style=\"text-align: right;\">\n",
       "      <th></th>\n",
       "      <th>chrom</th>\n",
       "      <th>source</th>\n",
       "      <th>feature</th>\n",
       "      <th>start</th>\n",
       "      <th>end</th>\n",
       "      <th>score</th>\n",
       "      <th>strand</th>\n",
       "      <th>frame</th>\n",
       "      <th>gene_id</th>\n",
       "      <th>transcript_id</th>\n",
       "      <th>exon_number</th>\n",
       "    </tr>\n",
       "  </thead>\n",
       "  <tbody>\n",
       "    <tr>\n",
       "      <th>1</th>\n",
       "      <td>21</td>\n",
       "      <td>StringTie</td>\n",
       "      <td>exon</td>\n",
       "      <td>9438205</td>\n",
       "      <td>9439580</td>\n",
       "      <td>1000</td>\n",
       "      <td>+</td>\n",
       "      <td>.</td>\n",
       "      <td>hum.40405</td>\n",
       "      <td>hum.40405.1</td>\n",
       "      <td>1</td>\n",
       "    </tr>\n",
       "    <tr>\n",
       "      <th>2</th>\n",
       "      <td>21</td>\n",
       "      <td>StringTie</td>\n",
       "      <td>exon</td>\n",
       "      <td>9439897</td>\n",
       "      <td>9442444</td>\n",
       "      <td>1000</td>\n",
       "      <td>+</td>\n",
       "      <td>.</td>\n",
       "      <td>hum.40405</td>\n",
       "      <td>hum.40405.1</td>\n",
       "      <td>2</td>\n",
       "    </tr>\n",
       "    <tr>\n",
       "      <th>3</th>\n",
       "      <td>21</td>\n",
       "      <td>StringTie</td>\n",
       "      <td>exon</td>\n",
       "      <td>9442625</td>\n",
       "      <td>9446317</td>\n",
       "      <td>1000</td>\n",
       "      <td>+</td>\n",
       "      <td>.</td>\n",
       "      <td>hum.40405</td>\n",
       "      <td>hum.40405.1</td>\n",
       "      <td>3</td>\n",
       "    </tr>\n",
       "    <tr>\n",
       "      <th>4</th>\n",
       "      <td>21</td>\n",
       "      <td>StringTie</td>\n",
       "      <td>exon</td>\n",
       "      <td>9447922</td>\n",
       "      <td>9448040</td>\n",
       "      <td>1000</td>\n",
       "      <td>+</td>\n",
       "      <td>.</td>\n",
       "      <td>hum.40405</td>\n",
       "      <td>hum.40405.1</td>\n",
       "      <td>4</td>\n",
       "    </tr>\n",
       "    <tr>\n",
       "      <th>5</th>\n",
       "      <td>21</td>\n",
       "      <td>StringTie</td>\n",
       "      <td>exon</td>\n",
       "      <td>9451875</td>\n",
       "      <td>9451962</td>\n",
       "      <td>1000</td>\n",
       "      <td>+</td>\n",
       "      <td>.</td>\n",
       "      <td>hum.40405</td>\n",
       "      <td>hum.40405.1</td>\n",
       "      <td>5</td>\n",
       "    </tr>\n",
       "    <tr>\n",
       "      <th>6</th>\n",
       "      <td>21</td>\n",
       "      <td>StringTie</td>\n",
       "      <td>exon</td>\n",
       "      <td>9452458</td>\n",
       "      <td>9453009</td>\n",
       "      <td>1000</td>\n",
       "      <td>+</td>\n",
       "      <td>.</td>\n",
       "      <td>hum.40405</td>\n",
       "      <td>hum.40405.1</td>\n",
       "      <td>6</td>\n",
       "    </tr>\n",
       "    <tr>\n",
       "      <th>7</th>\n",
       "      <td>21</td>\n",
       "      <td>StringTie</td>\n",
       "      <td>exon</td>\n",
       "      <td>9454611</td>\n",
       "      <td>9454931</td>\n",
       "      <td>1000</td>\n",
       "      <td>+</td>\n",
       "      <td>.</td>\n",
       "      <td>hum.40405</td>\n",
       "      <td>hum.40405.1</td>\n",
       "      <td>7</td>\n",
       "    </tr>\n",
       "  </tbody>\n",
       "</table>\n",
       "</div>"
      ],
      "text/plain": [
       "  chrom     source feature    start      end score strand frame    gene_id  \\\n",
       "1    21  StringTie    exon  9438205  9439580  1000      +     .  hum.40405   \n",
       "2    21  StringTie    exon  9439897  9442444  1000      +     .  hum.40405   \n",
       "3    21  StringTie    exon  9442625  9446317  1000      +     .  hum.40405   \n",
       "4    21  StringTie    exon  9447922  9448040  1000      +     .  hum.40405   \n",
       "5    21  StringTie    exon  9451875  9451962  1000      +     .  hum.40405   \n",
       "6    21  StringTie    exon  9452458  9453009  1000      +     .  hum.40405   \n",
       "7    21  StringTie    exon  9454611  9454931  1000      +     .  hum.40405   \n",
       "\n",
       "  transcript_id exon_number  \n",
       "1   hum.40405.1           1  \n",
       "2   hum.40405.1           2  \n",
       "3   hum.40405.1           3  \n",
       "4   hum.40405.1           4  \n",
       "5   hum.40405.1           5  \n",
       "6   hum.40405.1           6  \n",
       "7   hum.40405.1           7  "
      ]
     },
     "execution_count": 8,
     "metadata": {},
     "output_type": "execute_result"
    }
   ],
   "source": [
    "transcripts[1].exons"
   ]
  },
  {
   "cell_type": "code",
   "execution_count": 9,
   "metadata": {},
   "outputs": [
    {
     "data": {
      "text/plain": [
       "[(np.int64(9439581), np.int64(9439896)),\n",
       " (np.int64(9442445), np.int64(9442624)),\n",
       " (np.int64(9446318), np.int64(9447921)),\n",
       " (np.int64(9448041), np.int64(9451874)),\n",
       " (np.int64(9451963), np.int64(9452457)),\n",
       " (np.int64(9453010), np.int64(9454610))]"
      ]
     },
     "execution_count": 9,
     "metadata": {},
     "output_type": "execute_result"
    }
   ],
   "source": [
    "transcripts[1].introns"
   ]
  },
  {
   "cell_type": "code",
   "execution_count": 10,
   "metadata": {},
   "outputs": [
    {
     "data": {
      "text/plain": [
       "({np.int64(9439581),\n",
       "  np.int64(9442445),\n",
       "  np.int64(9446318),\n",
       "  np.int64(9448041),\n",
       "  np.int64(9451963),\n",
       "  np.int64(9453010)},\n",
       " {np.int64(9439896),\n",
       "  np.int64(9442624),\n",
       "  np.int64(9447921),\n",
       "  np.int64(9451874),\n",
       "  np.int64(9452457),\n",
       "  np.int64(9454610)})"
      ]
     },
     "execution_count": 10,
     "metadata": {},
     "output_type": "execute_result"
    }
   ],
   "source": [
    "transcripts[1].splice_donor_sites, transcripts[1].splice_acceptor_sites"
   ]
  },
  {
   "cell_type": "markdown",
   "metadata": {},
   "source": [
    "This is implemented in `GTFProcessor.process_gtf`."
   ]
  },
  {
   "cell_type": "code",
   "execution_count": 4,
   "metadata": {},
   "outputs": [
    {
     "name": "stdout",
     "output_type": "stream",
     "text": [
      "Loading GTF file...\n",
      "Loaded 67525 GTF records\n"
     ]
    }
   ],
   "source": [
    "from splicevo.io.gene_annotation import GTFProcessor\n",
    "\n",
    "species = \"Rattus_norvegicus\"\n",
    "gtf_path = genome_dict[species][\"gtf\"]\n",
    "test_chromosomes = [\"19\"]\n",
    "\n",
    "gtf = GTFProcessor(gtf_path)\n",
    "transcripts = gtf.process_gtf(chromosomes=test_chromosomes)"
   ]
  },
  {
   "cell_type": "markdown",
   "metadata": {},
   "source": [
    "## Genome"
   ]
  },
  {
   "cell_type": "markdown",
   "metadata": {},
   "source": [
    "Next, I define a function that will read genomes and load them to OHE numpy array.\n",
    "Use `CustomGenome` from `grelu` to load genome fasta files.\n",
    "\n",
    "I realized here that `pyfaidx` does not work with my fasta files compressed with gzip. However, when I decompress them and re-compress using bgzip it works fine (but not with parallel implementation of bgzip, pbgzip!)"
   ]
  },
  {
   "cell_type": "code",
   "execution_count": 2,
   "metadata": {},
   "outputs": [],
   "source": [
    "from splicevo.io.genome import load_genome, encode_transcript\n",
    "\n",
    "species = \"Rattus_norvegicus\"\n",
    "#fasta_path = genome_dict[species][\"fasta\"]\n",
    "fasta_path = \"/work/aelek/data/mazin/fasta/Rattus_norvegicus.fasta.bgz\"\n",
    "\n",
    "genome = load_genome(fasta_path)"
   ]
  },
  {
   "cell_type": "code",
   "execution_count": 6,
   "metadata": {},
   "outputs": [
    {
     "data": {
      "text/plain": [
       "(tensor([[0, 0, 0,  ..., 1, 0, 1],\n",
       "         [1, 1, 0,  ..., 0, 0, 0],\n",
       "         [0, 0, 0,  ..., 0, 1, 0],\n",
       "         [0, 0, 1,  ..., 0, 0, 0]], dtype=torch.int8),\n",
       " tensor([0, 0, 0,  ..., 0, 0, 0]))"
      ]
     },
     "execution_count": 6,
     "metadata": {},
     "output_type": "execute_result"
    }
   ],
   "source": [
    "encode_transcript(transcripts[1], genome)"
   ]
  }
 ],
 "metadata": {
  "kernelspec": {
   "display_name": "splicevo",
   "language": "python",
   "name": "python3"
  },
  "language_info": {
   "codemirror_mode": {
    "name": "ipython",
    "version": 3
   },
   "file_extension": ".py",
   "mimetype": "text/x-python",
   "name": "python",
   "nbconvert_exporter": "python",
   "pygments_lexer": "ipython3",
   "version": "3.10.13"
  }
 },
 "nbformat": 4,
 "nbformat_minor": 2
}
