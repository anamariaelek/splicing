{
 "cells": [
  {
   "cell_type": "markdown",
   "id": "a4e50165",
   "metadata": {},
   "source": [
    "Here I parse RNA-seq data from Mazin _et al._"
   ]
  },
  {
   "cell_type": "markdown",
   "id": "e443d85a",
   "metadata": {},
   "source": [
    "First, make an enviroment for processing the RNA data (this is not a functionality of splicevo, so I keep it separate)."
   ]
  },
  {
   "cell_type": "code",
   "execution_count": null,
   "id": "7e3b9f99",
   "metadata": {
    "vscode": {
     "languageId": "shellscript"
    }
   },
   "outputs": [],
   "source": [
    "# conda env\n",
    "conda create -n spliser python=3.10 -y\n",
    "conda activate spliser\n",
    "conda install -c bioconda pysam -y\n",
    "conda install -c conda-forge ipykernel -y\n",
    "python -m ipykernel install --user --name=spliser \n",
    "git clone -b speedups https://github.com/CraigIDent/SpliSER.git\n",
    "cd SpliSER\n",
    "pip install -e . --config-settings editable_mode=compat"
   ]
  },
  {
   "cell_type": "markdown",
   "id": "b0a9ce47",
   "metadata": {},
   "source": [
    "We will run SpliSER for all samples from Mazin et al. The samples are listed in `samples.txt`."
   ]
  },
  {
   "cell_type": "code",
   "execution_count": null,
   "id": "08ca3950",
   "metadata": {},
   "outputs": [],
   "source": [
    "import pandas as pd\n",
    "import re\n",
    "\n",
    "samples = pd.read_csv(\"samples.txt\", sep=\"\\t\")\n",
    "\n",
    "# Group info contains samples filenames\n",
    "samples['Group']\n",
    "\n",
    "# Remove first part of Group column before the first '.'\n",
    "samples['Group'] = samples['Group'].apply(lambda x: re.sub(r'^[^.]*\\.', '', x))\n",
    "samples['Group'].value_counts()\n",
    "\n",
    "# Save the modified DataFrame to a new file\n",
    "samples.to_csv(\"samples2.txt\", sep=\"\\t\", index=False)"
   ]
  },
  {
   "cell_type": "code",
   "execution_count": null,
   "id": "78998ab5",
   "metadata": {
    "vscode": {
     "languageId": "shellscript"
    }
   },
   "outputs": [],
   "source": [
    "# Prepare groups of samples\n",
    "awk -F'\\t' 'NR>1 {print $10}' \"$DIR/samples.txt\" | sort | uniq > \"$DIR/groups.txt\"\n",
    "\n",
    "# Prepare groups per species\n",
    "# from groups.txt, extract lines with species name (Human, Mouse, Rat, Rabbit, Opossum, Chicken, Macaque)\n",
    "awk -F'\\t' 'NR>1 {print $4}' \"$DIR/samples.txt\" | sort | uniq > \"$DIR/species.txt\"\n",
    "for species in $(cat \"$DIR/species.txt\"); do\n",
    "    grep -w \"$species\" \"$DIR/groups.txt\" > \"$DIR/groups_${species}.txt\"\n",
    "done"
   ]
  },
  {
   "cell_type": "markdown",
   "id": "8915e44c",
   "metadata": {},
   "source": [
    "Extract Splice site Strength Estimate (SSE) and other splice site values."
   ]
  },
  {
   "cell_type": "code",
   "execution_count": null,
   "id": "46ef26de",
   "metadata": {},
   "outputs": [],
   "source": [
    "import pandas as pd\n",
    "from pathlib import Path\n",
    "\n",
    "project_dir=genome_dict_fn = \"~/projects/splicing\"\n",
    "\n",
    "species=\"Mus_musculus\"\n",
    "name=\"Mouse\"\n",
    "tissue=\"Brain\"\n",
    "group=\"0dpb\"\n",
    "filename=Path(project_dir, \"results\", \"spliser\", species, f\"{name}.{tissue}.{group}.combined.tsv\")\n",
    "df=pd.read_csv(filename, sep=\"\\t\")\n",
    "\n",
    "# columns:\n",
    "# Sample\\tRegion\\tSite\\tStrand\\tgene\\tSSE\\talpha_count\\tbeta1_count\\tbeta2_count\\tMultiGeneFlag\\tOthers\\tPartners\\tCompetitors\n",
    "\n",
    "# extract chromosome (region), position (site), SSE, alpha_count, beta1_count, beta2_count\n",
    "df2 = df[['Region', 'Site', 'SSE', 'alpha_count', 'beta1_count', 'beta2_count']]\n",
    "df2.head()"
   ]
  }
 ],
 "metadata": {
  "kernelspec": {
   "display_name": "splicevo",
   "language": "python",
   "name": "python3"
  },
  "language_info": {
   "codemirror_mode": {
    "name": "ipython",
    "version": 3
   },
   "file_extension": ".py",
   "mimetype": "text/x-python",
   "name": "python",
   "nbconvert_exporter": "python",
   "pygments_lexer": "ipython3",
   "version": "3.10.18"
  }
 },
 "nbformat": 4,
 "nbformat_minor": 5
}
