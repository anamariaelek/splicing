{
 "cells": [
  {
   "cell_type": "markdown",
   "id": "cfd68345",
   "metadata": {},
   "source": [
    "## SpTransformer Predictions"
   ]
  },
  {
   "cell_type": "code",
   "execution_count": null,
   "id": "ab397665",
   "metadata": {},
   "outputs": [],
   "source": [
    "import pandas as pd\n",
    "import numpy as np\n",
    "import tqdm\n",
    "import os\n",
    "import torch\n",
    "\n",
    "# Don't use GPU in the notebook\n",
    "os.environ['CUDA_VISIBLE_DEVICES'] = ''\n",
    "\n",
    "# Import what we need from /home/elek/projects/SpliceTransformer\n",
    "import sys\n",
    "sys.path.append('/home/elek/projects/SpliceTransformer')\n",
    "from tasks_annotate_mutations import SpTransformerDriver\n"
   ]
  },
  {
   "cell_type": "markdown",
   "id": "f203ecf5",
   "metadata": {},
   "source": [
    "Test that SpTransformer prediction works for a mock DNA sequence."
   ]
  },
  {
   "cell_type": "code",
   "execution_count": null,
   "id": "ea8a73fb",
   "metadata": {},
   "outputs": [
    {
     "name": "stdout",
     "output_type": "stream",
     "text": [
      "torch device:cpu\n",
      "Input sequence length: 9010\n",
      "Output shape: (10, 18)\n",
      "Splice scores shape: (10, 3)\n",
      "Tissue usage shape: (10, 15)\n"
     ]
    }
   ],
   "source": [
    "# Test the model with a mock sequence\n",
    "input_seq = 'N'*4500 + 'ACGTAGGGCG' + 'N'*4500\n",
    "\n",
    "# Encode and predict using the SpTransformerDriver default model\n",
    "model = SpTransformerDriver(ref_fasta='', load_db=False, context=4500)\n",
    "input_encoded = model.one_hot_encode(input_seq)\n",
    "output = model.calc_single_sequence(input_encoded, encode=False)\n",
    "\n",
    "print(f\"Input sequence length: {len(input_seq)}\")\n",
    "print(f\"Output shape: {output.shape}\")\n",
    "print(f\"Splice scores shape: {output[:, :3].shape}\")\n",
    "print(f\"Tissue usage shape: {output[:, 3:].shape}\")"
   ]
  },
  {
   "cell_type": "markdown",
   "id": "d9e358df",
   "metadata": {},
   "source": [
    "By default, SpTransformer predicts values for 15 GTEx tissues. I am only interested in Brain and Heart for now, because I can compare them to SplicEvo predictions."
   ]
  },
  {
   "cell_type": "code",
   "execution_count": 3,
   "id": "b9ba2437",
   "metadata": {},
   "outputs": [],
   "source": [
    "tis_dic = {0: 'Adipose Tissue', 1: 'Blood', 2: 'Blood Vessel', 3: 'Brain', 4: 'Colon', 5: 'Heart', 6: 'Kidney',\n",
    "                7: 'Liver', 8: 'Lung', 9: 'Muscle', 10: 'Nerve', 11: 'Small Intestine', 12: 'Skin', 13: 'Spleen', 14: 'Stomach'}\n",
    "tis_target = [3, 5]"
   ]
  },
  {
   "cell_type": "markdown",
   "id": "127ef663",
   "metadata": {},
   "source": [
    "Load test data used for SplicEvo."
   ]
  },
  {
   "cell_type": "code",
   "execution_count": 4,
   "id": "3da3a75e",
   "metadata": {},
   "outputs": [
    {
     "name": "stdout",
     "output_type": "stream",
     "text": [
      "Test sequences shape: (58097, 10000, 4)\n",
      "Test labels shape: (58097, 1000)\n",
      "Test usage shape: (58097, 1000, 4)\n",
      "Test alpha shape: (58097, 1000, 4)\n",
      "Test beta shape: (58097, 1000, 4)\n"
     ]
    }
   ],
   "source": [
    "# Load test data\n",
    "test_path = \"/home/elek/projects/splicing/results/data_processing_subset/processed_data_test.npz\"\n",
    "data = np.load(test_path)\n",
    "\n",
    "test_sequences = data['sequences']\n",
    "test_labels = data['labels']\n",
    "\n",
    "test_sse = data['usage_sse']\n",
    "test_alpha = data['usage_alpha']\n",
    "test_beta = data['usage_beta']\n",
    "\n",
    "test_sse = np.nan_to_num(test_sse, nan=0.0)\n",
    "test_alpha = np.nan_to_num(test_alpha, nan=0.0)\n",
    "test_beta = np.nan_to_num(test_beta, nan=0.0)\n",
    "\n",
    "print(f\"Test sequences shape: {test_sequences.shape}\")\n",
    "print(f\"Test labels shape: {test_labels.shape}\")\n",
    "print(f\"Test usage shape: {test_sse.shape}\")\n",
    "print(f\"Test alpha shape: {test_alpha.shape}\")\n",
    "print(f\"Test beta shape: {test_beta.shape}\")"
   ]
  },
  {
   "cell_type": "code",
   "execution_count": 35,
   "id": "f5bbea6d",
   "metadata": {},
   "outputs": [
    {
     "name": "stdout",
     "output_type": "stream",
     "text": [
      "Splice sites in sequence 0:\n",
      "  donors (1)    []\n",
      "  acceptors (2) [0]\n",
      "Splice sites in sequence 1:\n",
      "  donors (1)    [0, 788]\n",
      "  acceptors (2) []\n",
      "Splice sites in sequence 2:\n",
      "  donors (1)    [168, 759]\n",
      "  acceptors (2) [555]\n"
     ]
    }
   ],
   "source": [
    "# Splice sites in the first few test sequences\n",
    "for i in range(3):\n",
    "    print(f\"Splice sites in sequence {i}:\")\n",
    "    print(f\"  donors (1)    {np.where(test_labels[i] == 1)[0].tolist()}\")\n",
    "    print(f\"  acceptors (2) {np.where(test_labels[i] == 2)[0].tolist()}\")"
   ]
  },
  {
   "cell_type": "markdown",
   "id": "260a126d",
   "metadata": {},
   "source": [
    "Inspect distribution of usage values at splice sites"
   ]
  },
  {
   "cell_type": "code",
   "execution_count": null,
   "id": "e68367dc",
   "metadata": {},
   "outputs": [
    {
     "name": "stdout",
     "output_type": "stream",
     "text": [
      "Number of donor sites: 64752\n",
      "Brain\n",
      "156 sites have mapped usage values (0.24%)\n",
      "    SSE - mean: 0.0005, std: 0.0207\n",
      "    Alpha - mean: 0.0304, std: 3.1174\n",
      "    Beta - mean: 0.0128, std: 1.5466\n",
      "Heart\n",
      "175 sites have mapped usage values (0.27%)\n",
      "    SSE - mean: 0.0005, std: 0.0209\n",
      "    Alpha - mean: 0.0278, std: 2.4794\n",
      "    Beta - mean: 0.0111, std: 1.1376\n",
      "Number of acceptor sites: 61732\n",
      "Brain\n",
      "173 sites have mapped usage values (0.28%)\n",
      "    SSE - mean: 0.0005, std: 0.0218\n",
      "    Alpha - mean: 0.0277, std: 2.4897\n",
      "    Beta - mean: 0.0167, std: 1.6032\n",
      "Heart\n",
      "144 sites have mapped usage values (0.23%)\n",
      "    SSE - mean: 0.0004, std: 0.0194\n",
      "    Alpha - mean: 0.0221, std: 2.1621\n",
      "    Beta - mean: 0.0168, std: 1.7340\n"
     ]
    }
   ],
   "source": [
    "cls_dict = {0: 'non-splice site', 1: 'donor', 2: 'acceptor'}\n",
    "\n",
    "for cls in [1, 2]: # 1: donor, 2: acceptor\n",
    "    cls_idxs = np.where(test_labels == cls)[0]\n",
    "    print(f\"Number of {cls_dict[cls]} sites: {len(cls_idxs)}\")\n",
    "    for tis_idx in tis_target:\n",
    "        tis = tis_dic[tis_idx]\n",
    "        sse_values = test_sse[cls_idxs, tis_idx]\n",
    "        alpha_values = test_alpha[cls_idxs, tis_idx]\n",
    "        beta_values = test_beta[cls_idxs, tis_idx]\n",
    "        print(f\"{tis}\")\n",
    "        print(f\"{np.sum(sse_values > 0)} sites have mapped usage values ({np.sum(sse_values > 0) / len(sse_values) * 100:.2f}%)\")\n",
    "        print(f\"    SSE - mean: {np.mean(sse_values):.4f}, std: {np.std(sse_values):.4f}\")\n",
    "        print(f\"    Alpha - mean: {np.mean(alpha_values):.4f}, std: {np.std(alpha_values):.4f}\")\n",
    "        print(f\"    Beta - mean: {np.mean(beta_values):.4f}, std: {np.std(beta_values):.4f}\")"
   ]
  },
  {
   "cell_type": "markdown",
   "id": "b1c700be",
   "metadata": {},
   "source": [
    "Check that SpTransformer prediction works for batch of sequences."
   ]
  },
  {
   "cell_type": "code",
   "execution_count": null,
   "id": "344d111e",
   "metadata": {},
   "outputs": [
    {
     "name": "stdout",
     "output_type": "stream",
     "text": [
      "Output shape: (10, 1000, 18)\n",
      "Splice scores shape: (10, 1000, 3)\n",
      "Tissue usage shape: (10, 1000, 15)\n"
     ]
    }
   ],
   "source": [
    "output = model.calc_batched_sequence(test_sequences[0:10], encode=False)\n",
    "splice_probs = output[:,:,:3]\n",
    "splice_preds = np.argmax(splice_probs, axis=-1)\n",
    "usage_preds = output[:,:,3:]\n",
    "\n",
    "print(f\"Output shape: {output.shape}\")\n",
    "print(f\"Splice scores shape: {splice_probs.shape}\")\n",
    "print(f\"Tissue usage shape: {usage_preds.shape}\")"
   ]
  },
  {
   "cell_type": "markdown",
   "id": "bb4b6d18",
   "metadata": {},
   "source": [
    "Use SpliceTransformer for predictions on test data I used for SplicEvo.\n",
    "\n",
    "```bash\n",
    "conda activate sptransformer\n",
    "python /home/elek/projects/splicing/scripts/predict.py \\\n",
    "--input /home/elek/projects/splicing/results/data_processing/processed_data_test.npz \\\n",
    "--output /home/elek/projects/splicing/results/sptransformer/test_predictions.npz \\\n",
    "--weights /home/elek/projects/SpliceTransformer/model/weights/SpTransformer_pytorch.ckpt\n",
    "```"
   ]
  },
  {
   "cell_type": "markdown",
   "id": "b36bd90a",
   "metadata": {},
   "source": [
    "Load resulting predictions."
   ]
  },
  {
   "cell_type": "code",
   "execution_count": null,
   "id": "35ab9179",
   "metadata": {},
   "outputs": [
    {
     "name": "stdout",
     "output_type": "stream",
     "text": [
      "Available keys: ['splice_preds', 'splice_probs', 'splice_usage', 'labels_true', 'usage_true']\n",
      "splice_preds: (58097, 1000)\n",
      "splice_probs: (58097, 1000, 3)\n",
      "splice_usage: (58097, 1000, 15)\n",
      "labels_true: (58097, 1000)\n",
      "usage_true: (58097, 1000, 4)\n"
     ]
    }
   ],
   "source": [
    "import numpy as np\n",
    "\n",
    "# Load the model predictions from a file\n",
    "pred_path = \"/home/elek/projects/SpliceTransformer/test_predictions.npz\"\n",
    "pred = np.load(pred_path)\n",
    "\n",
    "# Keys in the loaded data\n",
    "print(f\"Available keys: {list(pred.keys())}\")\n",
    "for key in pred.keys():\n",
    "    print(f\"{key}: {pred[key].shape}\")\n"
   ]
  },
  {
   "cell_type": "markdown",
   "id": "4aea4ad4",
   "metadata": {},
   "source": [
    "SpTransformer works with the following predictions:  \n",
    "0 - non-splice site, 1 - acceptor, 2 - donor.  \n",
    "\n",
    "To calculate accuracy against true labels, I need to match outputs to what SplicEvo reports:  \n",
    "0 - non-splice site, 1 - donor, 2 - acceptor"
   ]
  },
  {
   "cell_type": "code",
   "execution_count": 41,
   "id": "8bb63f92",
   "metadata": {},
   "outputs": [],
   "source": [
    "# reorder columns of probabilities matrices\n",
    "pred_probs = pred['splice_probs'][:,:, [0,2,1]]\n",
    "# replace class values: 1 with 2 and 2 with 1\n",
    "pred_preds = pred['splice_preds']\n",
    "pred_preds[pred_preds == 1] = 3\n",
    "pred_preds[pred_preds == 2] = 1\n",
    "pred_preds[pred_preds == 3] = 2"
   ]
  },
  {
   "cell_type": "markdown",
   "id": "aa084436",
   "metadata": {},
   "source": [
    "Inspect a few sequences and their predicted splice sites."
   ]
  },
  {
   "cell_type": "code",
   "execution_count": null,
   "id": "d6f79104",
   "metadata": {},
   "outputs": [
    {
     "name": "stdout",
     "output_type": "stream",
     "text": [
      "\n",
      "(1) Donor splice sites in sequence 0:\n",
      "  actual       []\n",
      "  predicted    []\n",
      "(2) Acceptor splice sites in sequence 0:\n",
      "  actual    [0]\n",
      "  predicted []\n",
      "\n",
      "(1) Donor splice sites in sequence 1:\n",
      "  actual       [0, 788]\n",
      "  predicted    [786]\n",
      "(2) Acceptor splice sites in sequence 1:\n",
      "  actual    []\n",
      "  predicted []\n",
      "\n",
      "(1) Donor splice sites in sequence 2:\n",
      "  actual       [168, 759]\n",
      "  predicted    [757]\n",
      "(2) Acceptor splice sites in sequence 2:\n",
      "  actual    [555]\n",
      "  predicted [555]\n",
      "\n",
      "(1) Donor splice sites in sequence 3:\n",
      "  actual       [162]\n",
      "  predicted    [652]\n",
      "(2) Acceptor splice sites in sequence 3:\n",
      "  actual    [20]\n",
      "  predicted [20, 559]\n"
     ]
    }
   ],
   "source": [
    "# Splice sites in the first few test sequences\n",
    "for i in range(4):\n",
    "    print(f\"\\n(1) Donor splice sites in sequence {i}:\")\n",
    "    print(f\"  actual       {np.where(test_labels[i] == 1)[0].tolist()}\")\n",
    "    print(f\"  predicted    {np.where(pred_preds[i] == 1)[0].tolist()}\")\n",
    "    print(f\"(2) Acceptor splice sites in sequence {i}:\")\n",
    "    print(f\"  actual    {np.where(test_labels[i] == 2)[0].tolist()}\")\n",
    "    print(f\"  predicted {np.where(pred_preds[i] == 2)[0].tolist()}\")  "
   ]
  },
  {
   "cell_type": "code",
   "execution_count": 48,
   "id": "c26a2d23",
   "metadata": {},
   "outputs": [
    {
     "name": "stdout",
     "output_type": "stream",
     "text": [
      "Sequence 0, position 0:\n",
      "  true label: 2\n",
      "  pred label: 0\n",
      "  porbs:[9.9994123e-01 1.3466172e-05 4.5331246e-05]\n",
      "Sequence 1, position 0:\n",
      "  true label: 1\n",
      "  pred label: 0\n",
      "  porbs:[9.999993e-01 4.628972e-07 2.009506e-07]\n",
      "Sequence 2, position 168:\n",
      "  true label: 1\n",
      "  pred label: 0\n",
      "  porbs:[9.9999988e-01 9.8917766e-08 3.9064183e-08]\n",
      "Sequence 2, position 759:\n",
      "  true label: 1\n",
      "  pred label: 0\n",
      "  porbs:[9.9999785e-01 1.8221517e-06 3.8113342e-07]\n"
     ]
    }
   ],
   "source": [
    "for i, j in [(0, 0), (1, 0), (2, 168), (2, 759)]:\n",
    "    print(f\"Sequence {i}, position {j}:\\n  true label: {test_labels[i,j]}\\n  pred label: {pred_preds[i,j]}\\n  porbs:{pred_probs[i,j,]}\")"
   ]
  },
  {
   "cell_type": "markdown",
   "id": "444c4bf2",
   "metadata": {},
   "source": [
    "Calculate PR-AUC, the area under the precision-recall curve."
   ]
  },
  {
   "cell_type": "code",
   "execution_count": 51,
   "id": "1dde98a0",
   "metadata": {},
   "outputs": [
    {
     "data": {
      "image/png": "[encoded data removed]",
      "text/plain": [
       "<Figure size 700x600 with 1 Axes>"
      ]
     },
     "metadata": {},
     "output_type": "display_data"
    },
    {
     "name": "stdout",
     "output_type": "stream",
     "text": [
      "PR-AUC for class 0: 0.9988\n",
      "PR-AUC for class 1: 0.0016\n",
      "PR-AUC for class 2: 0.3075\n"
     ]
    }
   ],
   "source": [
    "import matplotlib.pyplot as plt\n",
    "from sklearn.metrics import precision_recall_curve, auc\n",
    "\n",
    "pr_auc_scores = {}\n",
    "plt.figure(figsize=(7, 6))\n",
    "\n",
    "for class_idx in range(3):\n",
    "    # Binary labels for the current class\n",
    "    y_true = (data['labels'] == class_idx).astype(int).reshape(-1)\n",
    "    # Predicted probabilities for that class\n",
    "    y_scores = pred_probs[:, :, class_idx].reshape(-1)\n",
    "\n",
    "    # Compute PR curve and area\n",
    "    precision, recall, _ = precision_recall_curve(y_true, y_scores)\n",
    "    pr_auc = auc(recall, precision)\n",
    "    pr_auc_scores[class_idx] = pr_auc\n",
    "\n",
    "    # Plot\n",
    "    plt.plot(\n",
    "        recall, precision,\n",
    "        label=f\"Class {class_idx} (AUC = {pr_auc:.3f})\",\n",
    "        linewidth=2\n",
    "    )\n",
    "\n",
    "# Plot formatting\n",
    "plt.xlabel(\"Recall\", fontsize=12)\n",
    "plt.ylabel(\"Precision\", fontsize=12)\n",
    "plt.title(\"Precision–Recall Curves for Splice Site Classes\", fontsize=14)\n",
    "plt.legend(loc=\"lower left\")\n",
    "plt.grid(alpha=0.3)\n",
    "plt.tight_layout()\n",
    "plt.show()\n",
    "\n",
    "# Print PR-AUC values\n",
    "for c, auc_score in pr_auc_scores.items():\n",
    "    print(f\"PR-AUC for class {c}: {auc_score:.4f}\")\n"
   ]
  },
  {
   "cell_type": "markdown",
   "id": "4b43f087",
   "metadata": {},
   "source": [
    "Calculate top-k accuracy by choosing a threshold to make predicted positive sites and actual positive sites have the same number, then computing the fraction of correctly predicted splice sites."
   ]
  },
  {
   "cell_type": "code",
   "execution_count": 12,
   "id": "78f27ea3",
   "metadata": {},
   "outputs": [
    {
     "name": "stdout",
     "output_type": "stream",
     "text": [
      "Top-k accuracy for class 0: 0.9983\n",
      "Top-k accuracy for class 1: 0.0011\n",
      "Top-k accuracy for class 2: 0.4056\n"
     ]
    }
   ],
   "source": [
    "def top_k_accuracy(y_true, y_scores):\n",
    "    # How many actual positive sites (k) are there?\n",
    "    k = np.sum(y_true)\n",
    "    # Select prediction value threshold at which there are k predicted positive sites\n",
    "    threshold = np.sort(y_scores)[-k]\n",
    "    # Predicted positive sites\n",
    "    y_pred = (y_scores >= threshold).astype(int)\n",
    "    # Calculate accuracy\n",
    "    accuracy = np.sum((y_pred == 1) & (y_true == 1)) / k\n",
    "    return accuracy\n",
    "\n",
    "top_k_acc = {}\n",
    "for class_idx in range(3):\n",
    "    y_true = (data['labels'] == class_idx).astype(int)\n",
    "    y_true = y_true.reshape(-1)\n",
    "    y_scores = pred_probs[:,:,class_idx]\n",
    "    y_scores = y_scores.reshape(-1)\n",
    "    acc = top_k_accuracy(y_true, y_scores)\n",
    "    top_k_acc[class_idx] = acc\n",
    "    print(f\"Top-k accuracy for class {class_idx}: {acc:.4f}\")"
   ]
  }
 ],
 "metadata": {
  "kernelspec": {
   "display_name": "sptransformer",
   "language": "python",
   "name": "python3"
  },
  "language_info": {
   "codemirror_mode": {
    "name": "ipython",
    "version": 3
   },
   "file_extension": ".py",
   "mimetype": "text/x-python",
   "name": "python",
   "nbconvert_exporter": "python",
   "pygments_lexer": "ipython3",
   "version": "3.10.19"
  }
 },
 "nbformat": 4,
 "nbformat_minor": 5
}
