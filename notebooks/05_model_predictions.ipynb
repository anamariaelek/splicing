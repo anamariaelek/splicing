{
 "cells": [
  {
   "cell_type": "code",
   "execution_count": 1,
   "id": "28132384",
   "metadata": {},
   "outputs": [],
   "source": [
    "import pandas as pd\n",
    "import numpy as np\n",
    "import tqdm\n",
    "import os"
   ]
  },
  {
   "cell_type": "markdown",
   "id": "0642307f",
   "metadata": {},
   "source": [
    "Load test data."
   ]
  },
  {
   "cell_type": "code",
   "execution_count": 2,
   "id": "e82c68a9",
   "metadata": {},
   "outputs": [
    {
     "name": "stdout",
     "output_type": "stream",
     "text": [
      "Test sequences shape: (58097, 10000, 4)\n",
      "Test labels shape: (58097, 1000)\n",
      "Test usage shape: (58097, 1000, 4)\n",
      "Test alpha shape: (58097, 1000, 4)\n",
      "Test beta shape: (58097, 1000, 4)\n"
     ]
    }
   ],
   "source": [
    "# Load test data\n",
    "test_path = \"/home/elek/projects/splicing/results/data_processing_subset/processed_data_test.npz\"\n",
    "data = np.load(test_path)\n",
    "\n",
    "test_sequences = data['sequences']\n",
    "test_labels = data['labels']\n",
    "\n",
    "test_sse = data['usage_sse']\n",
    "test_alpha = data['usage_alpha']\n",
    "test_beta = data['usage_beta']\n",
    "\n",
    "test_sse = np.nan_to_num(test_sse, nan=0.0)\n",
    "test_alpha = np.nan_to_num(test_alpha, nan=0.0)\n",
    "test_beta = np.nan_to_num(test_beta, nan=0.0)\n",
    "\n",
    "print(f\"Test sequences shape: {test_sequences.shape}\")\n",
    "print(f\"Test labels shape: {test_labels.shape}\")\n",
    "print(f\"Test usage shape: {test_sse.shape}\")\n",
    "print(f\"Test alpha shape: {test_alpha.shape}\")\n",
    "print(f\"Test beta shape: {test_beta.shape}\")"
   ]
  },
  {
   "cell_type": "markdown",
   "id": "3f083bf9",
   "metadata": {},
   "source": [
    "Load predictions."
   ]
  },
  {
   "cell_type": "code",
   "execution_count": null,
   "id": "2089eaac",
   "metadata": {},
   "outputs": [
    {
     "name": "stdout",
     "output_type": "stream",
     "text": [
      "Available keys: ['splice_predictions', 'splice_probs', 'usage_alpha', 'usage_beta', 'usage_sse', 'labels_true', 'usage_alpha_true', 'usage_beta_true', 'usage_sse_true']\n",
      "splice_predictions: (58097, 1000)\n",
      "splice_probs: (58097, 1000, 3)\n",
      "usage_alpha: (58097, 1000, 4)\n",
      "usage_beta: (58097, 1000, 4)\n",
      "usage_sse: (58097, 1000, 4)\n",
      "labels_true: (58097, 1000)\n",
      "usage_alpha_true: (58097, 1000, 4)\n",
      "usage_beta_true: (58097, 1000, 4)\n",
      "usage_sse_true: (58097, 1000, 4)\n"
     ]
    }
   ],
   "source": [
    "# Load the model predictions from a file\n",
    "pred_path = \"/home/elek/projects/splicing/results/predictions/test_predictions_small_resnet.npz\"\n",
    "pred = np.load(pred_path)\n",
    "\n",
    "# Keys in the loaded data\n",
    "print(f\"Available keys: {list(pred.keys())}\")\n",
    "for key in pred.keys():\n",
    "    print(f\"{key}: {pred[key].shape}\")\n",
    "\n",
    "pred_preds = pred['splice_predictions']\n",
    "pred_probs = pred['splice_probs']"
   ]
  },
  {
   "cell_type": "markdown",
   "id": "02addb12",
   "metadata": {},
   "source": [
    "Inspect predictions vs true labels for the first few sequences."
   ]
  },
  {
   "cell_type": "code",
   "execution_count": 5,
   "id": "7369ccb7",
   "metadata": {},
   "outputs": [
    {
     "name": "stdout",
     "output_type": "stream",
     "text": [
      "\n",
      "(1) Donor splice sites in sequence 0:\n",
      "  actual       []\n",
      "  predicted    [1, 20, 72, 122, 177, 284, 313, 334, 462, 596, 607, 611, 622, 701, 717, 742, 789, 804, 902, 956, 968, 971, 989]\n",
      "(2) Acceptor splice sites in sequence 0:\n",
      "  actual    [0]\n",
      "  predicted [0, 19, 71, 86, 97, 193, 199, 266, 267, 299, 312, 333, 403, 419, 420, 454, 461, 517, 562, 571, 595, 610, 619, 680, 682, 687, 704, 773, 800, 854, 858, 955, 970]\n",
      "\n",
      "(1) Donor splice sites in sequence 1:\n",
      "  actual       [0, 788]\n",
      "  predicted    [0, 9, 14, 36, 52, 60, 73, 80, 103, 120, 204, 225, 238, 260, 262, 333, 382, 412, 418, 434, 442, 495, 508, 513, 518, 520, 561, 588, 605, 612, 639, 656, 671, 694, 711, 719, 763, 776, 788, 792, 882, 884, 891, 895, 919, 947, 963, 974]\n",
      "(2) Acceptor splice sites in sequence 1:\n",
      "  actual    []\n",
      "  predicted [8, 13, 51, 55, 64, 76, 79, 91, 100, 102, 107, 119, 134, 143, 151, 154, 222, 267, 279, 297, 310, 325, 343, 372, 375, 381, 392, 402, 409, 411, 417, 427, 451, 454, 456, 459, 465, 470, 476, 479, 494, 498, 507, 524, 534, 540, 554, 569, 572, 582, 587, 597, 619, 625, 633, 651, 666, 670, 691, 693, 710, 715, 726, 734, 762, 787, 791, 798, 822, 831, 838, 849, 867, 883, 922, 956, 958, 962, 973, 986]\n",
      "\n",
      "(1) Donor splice sites in sequence 2:\n",
      "  actual       [168, 759]\n",
      "  predicted    [2, 19, 31, 35, 45, 51, 75, 117, 138, 157, 166, 168, 218, 231, 250, 273, 277, 316, 327, 360, 377, 392, 445, 457, 474, 498, 505, 556, 579, 583, 604, 640, 680, 747, 753, 759, 815, 850, 890, 929, 938, 945, 971]\n",
      "(2) Acceptor splice sites in sequence 2:\n",
      "  actual    [555]\n",
      "  predicted [1, 18, 34, 44, 50, 74, 92, 107, 137, 156, 167, 183, 207, 211, 217, 230, 241, 315, 326, 359, 376, 408, 429, 434, 438, 444, 497, 521, 527, 549, 555, 603, 634, 651, 671, 703, 712, 726, 736, 738, 752, 758, 764, 788, 835, 849, 856, 889, 898, 909, 917, 920, 983, 996]\n",
      "\n",
      "(1) Donor splice sites in sequence 3:\n",
      "  actual       [162]\n",
      "  predicted    [15, 45, 101, 114, 123, 127, 143, 145, 162, 290, 294, 402, 406, 464, 468, 560, 580, 597, 646, 650, 654, 710, 721, 819, 863, 881, 899, 915, 948]\n",
      "(2) Acceptor splice sites in sequence 3:\n",
      "  actual    [20]\n",
      "  predicted [18, 20, 22, 25, 44, 87, 113, 122, 142, 161, 196, 204, 206, 236, 237, 292, 293, 338, 347, 358, 386, 401, 467, 507, 518, 521, 543, 559, 572, 579, 649, 653, 768, 780, 822, 826, 851, 947]\n"
     ]
    }
   ],
   "source": [
    "# Splice sites in the first few test sequences\n",
    "for i in range(4):\n",
    "    print(f\"\\n(1) Donor splice sites in sequence {i}:\")\n",
    "    print(f\"  actual       {np.where(test_labels[i] == 1)[0].tolist()}\")\n",
    "    print(f\"  predicted    {np.where(pred_preds[i] == 1)[0].tolist()}\")\n",
    "    print(f\"(2) Acceptor splice sites in sequence {i}:\")\n",
    "    print(f\"  actual    {np.where(test_labels[i] == 2)[0].tolist()}\")\n",
    "    print(f\"  predicted {np.where(pred_preds[i] == 2)[0].tolist()}\")  "
   ]
  },
  {
   "cell_type": "code",
   "execution_count": null,
   "id": "1f8e1e0e",
   "metadata": {},
   "outputs": [
    {
     "name": "stdout",
     "output_type": "stream",
     "text": [
      "Sequence 0, position 1:\n",
      "  true label: 0\n",
      "  pred label: 1\n",
      "  porbs:[0.02844799 0.9528032  0.01874878]\n",
      "Sequence 0, position 19:\n",
      "  true label: 0\n",
      "  pred label: 2\n",
      "  porbs:[0.28909478 0.19011058 0.52079463]\n",
      "Sequence 1, position 8:\n",
      "  true label: 0\n",
      "  pred label: 2\n",
      "  porbs:[0.28768092 0.11547947 0.59683967]\n",
      "Sequence 1, position 9:\n",
      "  true label: 0\n",
      "  pred label: 1\n",
      "  porbs:[0.1815133  0.74329156 0.07519514]\n"
     ]
    }
   ],
   "source": [
    "for i, j in [(0, 1), (0, 19), (1, 8), (1, 9)]:\n",
    "    print(f\"Sequence {i}, position {j}:\\n  true label: {test_labels[i,j]}\\n  pred label: {pred_preds[i,j]}\\n  porbs:{pred_probs[i,j,]}\")"
   ]
  },
  {
   "cell_type": "markdown",
   "id": "ba2e97b7",
   "metadata": {},
   "source": [
    "Calculate PR-AUC, the area under the precision-recall curve."
   ]
  },
  {
   "cell_type": "code",
   "execution_count": 38,
   "id": "f3747916",
   "metadata": {},
   "outputs": [
    {
     "data": {
      "image/png": "[encoded data removed]",
      "text/plain": [
       "<Figure size 700x600 with 1 Axes>"
      ]
     },
     "metadata": {},
     "output_type": "display_data"
    },
    {
     "name": "stdout",
     "output_type": "stream",
     "text": [
      "PR-AUC for class 0: 0.9990\n",
      "PR-AUC for class 1: 0.1630\n",
      "PR-AUC for class 2: 0.1036\n"
     ]
    }
   ],
   "source": [
    "import matplotlib.pyplot as plt\n",
    "from sklearn.metrics import precision_recall_curve, auc\n",
    "\n",
    "pr_auc_scores = {}\n",
    "plt.figure(figsize=(7, 6))\n",
    "\n",
    "for class_idx in range(3):\n",
    "    # Binary labels for the current class\n",
    "    y_true = (pred['labels_true'] == class_idx).astype(int).reshape(-1)\n",
    "    # Predicted probabilities for that class\n",
    "    y_scores = pred['splice_probs'][:, :, class_idx].reshape(-1)\n",
    "\n",
    "    # Compute PR curve and area\n",
    "    precision, recall, _ = precision_recall_curve(y_true, y_scores)\n",
    "    pr_auc = auc(recall, precision)\n",
    "    pr_auc_scores[class_idx] = pr_auc\n",
    "\n",
    "    # Plot\n",
    "    plt.plot(\n",
    "        recall, precision,\n",
    "        label=f\"Class {class_idx} (AUC = {pr_auc:.3f})\",\n",
    "        linewidth=2\n",
    "    )\n",
    "\n",
    "# Plot formatting\n",
    "plt.xlabel(\"Recall\", fontsize=12)\n",
    "plt.ylabel(\"Precision\", fontsize=12)\n",
    "plt.title(\"Precision–Recall Curves for Splice Site Classes\", fontsize=14)\n",
    "plt.legend(loc=\"lower left\")\n",
    "plt.grid(alpha=0.3)\n",
    "plt.tight_layout()\n",
    "plt.show()\n",
    "\n",
    "# Print PR-AUC values\n",
    "for c, auc_score in pr_auc_scores.items():\n",
    "    print(f\"PR-AUC for class {c}: {auc_score:.4f}\")\n"
   ]
  },
  {
   "cell_type": "markdown",
   "id": "c343ced7",
   "metadata": {},
   "source": [
    "Calculate top-k accuracy by choosing a threshold to make predicted positive sites and actual positive sites have the same number, then computing the fraction of correctly predicted splice sites."
   ]
  },
  {
   "cell_type": "code",
   "execution_count": 9,
   "id": "3220fb4b",
   "metadata": {},
   "outputs": [
    {
     "name": "stdout",
     "output_type": "stream",
     "text": [
      "Top-k accuracy for class 0: 0.9984\n",
      "Top-k accuracy for class 1: 0.2926\n",
      "Top-k accuracy for class 2: 0.2096\n"
     ]
    }
   ],
   "source": [
    "def top_k_accuracy(y_true, y_scores):\n",
    "    # How many actual positive sites (k) are there?\n",
    "    k = np.sum(y_true)\n",
    "    # Select prediction value threshold at which there are k predicted positive sites\n",
    "    threshold = np.sort(y_scores)[-k]\n",
    "    # Predicted positive sites\n",
    "    y_pred = (y_scores >= threshold).astype(int)\n",
    "    # Calculate accuracy\n",
    "    accuracy = np.sum((y_pred == 1) & (y_true == 1)) / k\n",
    "    return accuracy\n",
    "\n",
    "top_k_acc = {}\n",
    "for class_idx in range(3):\n",
    "    y_true = (pred['labels_true'] == class_idx).astype(int)\n",
    "    y_true = y_true.reshape(-1)\n",
    "    y_scores = pred['splice_probs'][:,:,class_idx]\n",
    "    y_scores = y_scores.reshape(-1)\n",
    "    acc = top_k_accuracy(y_true, y_scores)\n",
    "    top_k_acc[class_idx] = acc\n",
    "    print(f\"Top-k accuracy for class {class_idx}: {acc:.4f}\")"
   ]
  }
 ],
 "metadata": {
  "kernelspec": {
   "display_name": "splicevo",
   "language": "python",
   "name": "python3"
  },
  "language_info": {
   "codemirror_mode": {
    "name": "ipython",
    "version": 3
   },
   "file_extension": ".py",
   "mimetype": "text/x-python",
   "name": "python",
   "nbconvert_exporter": "python",
   "pygments_lexer": "ipython3",
   "version": "3.10.18"
  }
 },
 "nbformat": 4,
 "nbformat_minor": 5
}
