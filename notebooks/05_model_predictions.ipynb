{
 "cells": [
  {
   "cell_type": "code",
   "execution_count": 1,
   "id": "28132384",
   "metadata": {},
   "outputs": [],
   "source": [
    "import pandas as pd\n",
    "import numpy as np\n",
    "import tqdm\n",
    "import os"
   ]
  },
  {
   "cell_type": "markdown",
   "id": "ead55dc2",
   "metadata": {},
   "source": [
    "Get predictions for a subset of data."
   ]
  },
  {
   "cell_type": "markdown",
   "id": "3755f552",
   "metadata": {},
   "source": [
    "```bash\n",
    "SPLICEVO_DIR=/home/elek/projects/splicevo/\n",
    "OUT_DIR=/home/elek/projects/splicing/results\n",
    "CHECKPOINT_DIR=subset\n",
    "python ${SPLICEVO_DIR}/scripts/splicevo_predict.py \\\n",
    "--checkpoint ${OUT_DIR}/models/${CHECKPOINT_DIR}/best_model.pt \\\n",
    "--test-data ${OUT_DIR}/data_processing/processed_data_test.npz \\\n",
    "--normalization-stats ${OUT_DIR}/models/${CHECKPOINT_DIR}/normalization_stats.json \\\n",
    "--output ${OUT_DIR}/predictions/test_predictions_subset.npz > ${OUT_DIR}/predictions/test_predictions_subset.log 2>&1 &\n",
    "```"
   ]
  },
  {
   "cell_type": "markdown",
   "id": "0642307f",
   "metadata": {},
   "source": [
    "Load subset test data for which predictions were made."
   ]
  },
  {
   "cell_type": "code",
   "execution_count": 2,
   "id": "e82c68a9",
   "metadata": {},
   "outputs": [
    {
     "name": "stdout",
     "output_type": "stream",
     "text": [
      "Test sequences shape: (79156, 10000, 4)\n",
      "Test labels shape: (79156, 1000)\n",
      "Test usage shape: (79156, 1000, 62)\n",
      "Test alpha shape: (79156, 1000, 62)\n",
      "Test beta shape: (79156, 1000, 62)\n"
     ]
    }
   ],
   "source": [
    "# Load test data\n",
    "test_path = \"/home/elek/projects/splicing/results/data_processing_filtered/processed_data_test.npz\"\n",
    "data = np.load(test_path)\n",
    "\n",
    "test_sequences = data['sequences']\n",
    "test_labels = data['labels']\n",
    "\n",
    "test_sse = data['usage_sse']\n",
    "test_alpha = data['usage_alpha']\n",
    "test_beta = data['usage_beta']\n",
    "\n",
    "test_sse = np.nan_to_num(test_sse, nan=0.0)\n",
    "test_alpha = np.nan_to_num(test_alpha, nan=0.0)\n",
    "test_beta = np.nan_to_num(test_beta, nan=0.0)\n",
    "\n",
    "print(f\"Test sequences shape: {test_sequences.shape}\")\n",
    "print(f\"Test labels shape: {test_labels.shape}\")\n",
    "print(f\"Test usage shape: {test_sse.shape}\")\n",
    "print(f\"Test alpha shape: {test_alpha.shape}\")\n",
    "print(f\"Test beta shape: {test_beta.shape}\")"
   ]
  },
  {
   "cell_type": "markdown",
   "id": "c78882dc",
   "metadata": {},
   "source": [
    "Check where are the splice sites in the first few sequences"
   ]
  },
  {
   "cell_type": "code",
   "execution_count": 3,
   "id": "ec66656f",
   "metadata": {},
   "outputs": [
    {
     "name": "stdout",
     "output_type": "stream",
     "text": [
      "Splice sites in sequence 0:\n",
      "  donors (1)    [0]\n",
      "  acceptors (2) []\n",
      "Splice sites in sequence 1:\n",
      "  donors (1)    []\n",
      "  acceptors (2) [973]\n",
      "Splice sites in sequence 2:\n",
      "  donors (1)    [13]\n",
      "  acceptors (2) []\n",
      "Splice sites in sequence 3:\n",
      "  donors (1)    []\n",
      "  acceptors (2) [0]\n",
      "Splice sites in sequence 4:\n",
      "  donors (1)    [463]\n",
      "  acceptors (2) [586]\n"
     ]
    }
   ],
   "source": [
    "# Splice sites in the first few test sequences\n",
    "for i in range(5):\n",
    "    print(f\"Splice sites in sequence {i}:\")\n",
    "    print(f\"  donors (1)    {np.where(test_labels[i] == 1)[0].tolist()}\")\n",
    "    print(f\"  acceptors (2) {np.where(test_labels[i] == 2)[0].tolist()}\")"
   ]
  },
  {
   "cell_type": "markdown",
   "id": "281b60af",
   "metadata": {},
   "source": [
    "Count how many splice sites per test sequence are there."
   ]
  },
  {
   "cell_type": "code",
   "execution_count": null,
   "id": "12868eaf",
   "metadata": {},
   "outputs": [],
   "source": [
    "num_splice_sites = {}\n",
    "for i in range(test_labels.shape[0]):\n",
    "    num_donors = apply(lambda x: np.sum(x == 1), axis=1)(test_labels[i])\n",
    "    num_acceptors = apply(lambda x: np.sum(x == 2), axis=1)(test_labels[i])\n",
    "    num_splice_sites['donors'].append(num_donors)\n",
    "    num_splice_sites['acceptors'].append(num_acceptors)\n",
    "\n",
    "num_splice_sites"
   ]
  },
  {
   "cell_type": "markdown",
   "id": "d483db15",
   "metadata": {},
   "source": [
    "Inspect distribution of usage values at splice sites"
   ]
  },
  {
   "cell_type": "code",
   "execution_count": 5,
   "id": "91ecb050",
   "metadata": {},
   "outputs": [
    {
     "name": "stdout",
     "output_type": "stream",
     "text": [
      "Number of donor sites: 82795\n",
      "0\n",
      "35828 sites have mapped usage values (43.27%)\n",
      "    SSE - mean: 0.3838, std: 0.4517\n",
      "    Alpha - mean: 24.8730, std: 116.9533\n",
      "    Beta - mean: 2.6549, std: 15.7584\n",
      "1\n",
      "35793 sites have mapped usage values (43.23%)\n",
      "    SSE - mean: 0.3742, std: 0.4470\n",
      "    Alpha - mean: 36.5627, std: 185.6205\n",
      "    Beta - mean: 5.3453, std: 40.2145\n",
      "2\n",
      "30918 sites have mapped usage values (37.34%)\n",
      "    SSE - mean: 0.3348, std: 0.4438\n",
      "    Alpha - mean: 15.8029, std: 81.0770\n",
      "    Beta - mean: 1.8052, std: 14.5304\n",
      "3\n",
      "30550 sites have mapped usage values (36.90%)\n",
      "    SSE - mean: 0.3380, std: 0.4508\n",
      "    Alpha - mean: 19.3287, std: 86.4877\n",
      "    Beta - mean: 1.6414, std: 12.5872\n",
      "4\n",
      "33901 sites have mapped usage values (40.95%)\n",
      "    SSE - mean: 0.3631, std: 0.4514\n",
      "    Alpha - mean: 33.1092, std: 158.8725\n",
      "    Beta - mean: 3.8974, std: 33.6795\n",
      "Number of acceptor sites: 79180\n",
      "0\n",
      "35859 sites have mapped usage values (45.29%)\n",
      "    SSE - mean: 0.3964, std: 0.4500\n",
      "    Alpha - mean: 25.4690, std: 117.5625\n",
      "    Beta - mean: 3.1985, std: 18.3210\n",
      "1\n",
      "35680 sites have mapped usage values (45.06%)\n",
      "    SSE - mean: 0.3794, std: 0.4405\n",
      "    Alpha - mean: 36.8544, std: 184.0442\n",
      "    Beta - mean: 6.7410, std: 44.9721\n",
      "2\n",
      "30687 sites have mapped usage values (38.76%)\n",
      "    SSE - mean: 0.3406, std: 0.4403\n",
      "    Alpha - mean: 15.9877, std: 81.0019\n",
      "    Beta - mean: 2.2641, std: 16.3183\n",
      "3\n",
      "30447 sites have mapped usage values (38.45%)\n",
      "    SSE - mean: 0.3458, std: 0.4486\n",
      "    Alpha - mean: 19.7314, std: 87.0128\n",
      "    Beta - mean: 2.0853, std: 14.7367\n",
      "4\n",
      "33849 sites have mapped usage values (42.75%)\n",
      "    SSE - mean: 0.3708, std: 0.4471\n",
      "    Alpha - mean: 33.7255, std: 158.2916\n",
      "    Beta - mean: 4.8714, std: 36.2009\n"
     ]
    }
   ],
   "source": [
    "cls_dict = {0: 'non-splice site', 1: 'donor', 2: 'acceptor'}\n",
    "\n",
    "for cls in [1, 2]: # 1: donor, 2: acceptor\n",
    "    cls_idxs_0 = np.where(test_labels == cls)[0]\n",
    "    cls_idxs_1 = np.where(test_labels == cls)[1]\n",
    "    print(f\"Number of {cls_dict[cls]} sites: {len(cls_idxs_0)}\")\n",
    "    for tis_idx in range(5): # 5 tissues\n",
    "        sse_values = test_sse[cls_idxs_0, cls_idxs_1, tis_idx]\n",
    "        alpha_values = test_alpha[cls_idxs_0, cls_idxs_1, tis_idx]\n",
    "        beta_values = test_beta[cls_idxs_0, cls_idxs_1, tis_idx]\n",
    "        print(f\"{tis_idx}\")\n",
    "        print(f\"{np.sum(sse_values > 0)} sites have mapped usage values ({np.sum(sse_values > 0) / len(sse_values) * 100:.2f}%)\")\n",
    "        print(f\"    SSE - mean: {np.mean(sse_values):.4f}, std: {np.std(sse_values):.4f}\")\n",
    "        print(f\"    Alpha - mean: {np.mean(alpha_values):.4f}, std: {np.std(alpha_values):.4f}\")\n",
    "        print(f\"    Beta - mean: {np.mean(beta_values):.4f}, std: {np.std(beta_values):.4f}\")"
   ]
  },
  {
   "cell_type": "markdown",
   "id": "3f083bf9",
   "metadata": {},
   "source": [
    "Load predictions (this takes ~10 mins...)"
   ]
  },
  {
   "cell_type": "code",
   "execution_count": null,
   "id": "2089eaac",
   "metadata": {},
   "outputs": [
    {
     "name": "stdout",
     "output_type": "stream",
     "text": [
      "Available keys: ['splice_predictions', 'splice_probs', 'usage_alpha', 'usage_beta', 'usage_sse', 'labels_true', 'usage_alpha_true', 'usage_beta_true', 'usage_sse_true']\n",
      "splice_predictions: (79156, 1000)\n",
      "splice_probs: (79156, 1000, 3)\n",
      "usage_alpha: (79156, 1000, 62)\n",
      "usage_beta: (79156, 1000, 62)\n"
     ]
    }
   ],
   "source": [
    "# Load the model predictions from a file\n",
    "pred_path = \"/home/elek/projects/splicing/results/predictions/test_predictions_subset_filtered.npz\"\n",
    "pred = np.load(pred_path)\n",
    "\n",
    "# Keys in the loaded data\n",
    "print(f\"Available keys: {list(pred.keys())}\")\n",
    "for key in pred.keys():\n",
    "    print(f\"{key}: {pred[key].shape}\")\n",
    "\n",
    "pred_preds = pred['splice_predictions']\n",
    "pred_probs = pred['splice_probs']"
   ]
  },
  {
   "cell_type": "markdown",
   "id": "02addb12",
   "metadata": {},
   "source": [
    "Inspect predictions vs true labels for the first few sequences."
   ]
  },
  {
   "cell_type": "code",
   "execution_count": 4,
   "id": "7369ccb7",
   "metadata": {},
   "outputs": [
    {
     "name": "stdout",
     "output_type": "stream",
     "text": [
      "\n",
      "(1) Donor splice sites in sequence 0:\n",
      "  actual       [0]\n",
      "  predicted    [1, 3, 21, 35, 69, 74, 77, 92, 122, 167, 193, 196, 208, 212, 223, 229, 246, 254, 320, 324, 347, 373, 390, 400, 408, 420, 437, 470, 485, 500, 514, 515, 523, 528, 541, 545, 574, 585, 597, 603, 609, 615, 624, 651, 675, 693, 711, 717, 721, 729, 760, 763, 770, 802, 831, 832, 845, 861, 868, 881, 887, 896, 909, 913, 920, 929, 949, 987, 988, 991, 992, 996]\n",
      "(2) Acceptor splice sites in sequence 0:\n",
      "  actual    []\n",
      "  predicted [6, 32, 34, 42, 64, 73, 85, 99, 109, 115, 121, 129, 132, 139, 177, 180, 181, 187, 191, 192, 195, 203, 228, 232, 233, 238, 286, 294, 296, 297, 298, 307, 308, 310, 323, 332, 341, 360, 363, 365, 370, 372, 389, 396, 399, 412, 417, 436, 448, 449, 451, 463, 466, 469, 481, 505, 511, 527, 561, 578, 595, 608, 622, 642, 643, 650, 660, 665, 666, 669, 680, 715, 718, 732, 744, 750, 751, 777, 801, 805, 806, 807, 808, 809, 810, 812, 822, 830, 837, 842, 863, 866, 867, 879, 880, 886, 898, 904, 928, 966, 969, 970, 975, 977, 990, 995]\n",
      "\n",
      "(1) Donor splice sites in sequence 1:\n",
      "  actual       []\n",
      "  predicted    [21, 30, 79, 90, 117, 123, 148, 151, 186, 195, 232, 251, 260, 288, 290, 294, 347, 364, 367, 381, 391, 399, 415, 430, 443, 444, 460, 462, 476, 482, 510, 532, 536, 542, 544, 548, 562, 600, 637, 647, 670, 685, 686, 690, 695, 710, 718, 729, 754, 805, 814, 884, 911, 913, 933, 940, 950, 954, 974, 980, 991]\n",
      "(2) Acceptor splice sites in sequence 1:\n",
      "  actual    [973]\n",
      "  predicted [15, 20, 29, 48, 77, 78, 115, 122, 137, 156, 173, 181, 184, 194, 214, 217, 245, 254, 256, 257, 262, 265, 273, 306, 315, 323, 340, 365, 380, 390, 397, 398, 414, 420, 442, 473, 477, 481, 495, 504, 508, 512, 521, 525, 531, 535, 539, 541, 557, 590, 594, 599, 627, 636, 650, 658, 664, 667, 674, 687, 694, 713, 714, 734, 753, 757, 770, 792, 797, 800, 801, 818, 823, 829, 845, 848, 854, 875, 878, 879, 888, 910, 928, 939, 943, 947, 962, 973, 978, 984]\n",
      "\n",
      "(1) Donor splice sites in sequence 2:\n",
      "  actual       [13]\n",
      "  predicted    [25, 29, 68, 107, 109, 129, 131, 198, 204, 219, 236, 273, 290, 301, 306, 330, 337, 370, 408, 413, 426, 430, 436, 467, 522, 526, 553, 570, 587, 591, 613, 618, 639, 644, 647, 668, 685, 698, 706, 719, 724, 729, 740, 758, 769, 773, 782, 787, 795, 816, 819, 836, 859, 887, 898, 899, 904, 908, 917, 936, 949, 958, 971, 976, 977]\n",
      "(2) Acceptor splice sites in sequence 2:\n",
      "  actual    []\n",
      "  predicted [7, 15, 16, 20, 51, 67, 75, 79, 84, 92, 106, 113, 116, 122, 125, 143, 164, 187, 197, 203, 211, 233, 240, 248, 262, 263, 272, 287, 289, 304, 305, 314, 317, 323, 328, 345, 357, 365, 393, 394, 395, 397, 400, 406, 407, 412, 416, 435, 476, 482, 511, 525, 540, 541, 543, 569, 571, 573, 574, 575, 577, 579, 586, 612, 617, 635, 643, 649, 654, 667, 688, 710, 739, 751, 754, 768, 781, 786, 794, 839, 840, 842, 858, 886, 894, 903, 935, 983]\n",
      "\n",
      "(1) Donor splice sites in sequence 3:\n",
      "  actual       []\n",
      "  predicted    [1, 5, 16, 23, 34, 47, 70, 75, 81, 82, 130, 140, 142, 168, 172, 180, 183, 198, 204, 208, 220, 236, 239, 265, 275, 330, 346, 352, 354, 363, 367, 415, 416, 427, 429, 457, 475, 487, 538, 557, 562, 579, 585, 588, 610, 620, 625, 632, 642, 681, 682, 686, 711, 716, 737, 772, 781, 787, 806, 823, 845, 880, 923, 944, 946, 972, 975]\n",
      "(2) Acceptor splice sites in sequence 3:\n",
      "  actual    [0]\n",
      "  predicted [0, 19, 22, 33, 45, 57, 79, 99, 104, 111, 124, 146, 156, 161, 166, 167, 171, 179, 188, 197, 245, 255, 262, 264, 274, 291, 303, 311, 325, 329, 343, 362, 364, 366, 374, 380, 391, 393, 395, 396, 405, 428, 445, 447, 449, 454, 456, 461, 468, 471, 482, 508, 510, 512, 525, 533, 534, 537, 540, 542, 543, 566, 569, 587, 601, 605, 608, 609, 631, 652, 673, 680, 705, 709, 727, 733, 746, 748, 752, 756, 757, 758, 762, 771, 780, 785, 813, 819, 833, 836, 838, 841, 844, 876, 887, 919, 922, 930, 943, 957, 971, 982]\n"
     ]
    }
   ],
   "source": [
    "# Splice sites in the first few test sequences\n",
    "for i in range(4):\n",
    "    print(f\"\\n(1) Donor splice sites in sequence {i}:\")\n",
    "    print(f\"  actual       {np.where(test_labels[i] == 1)[0].tolist()}\")\n",
    "    print(f\"  predicted    {np.where(pred_preds[i] == 1)[0].tolist()}\")\n",
    "    print(f\"(2) Acceptor splice sites in sequence {i}:\")\n",
    "    print(f\"  actual    {np.where(test_labels[i] == 2)[0].tolist()}\")\n",
    "    print(f\"  predicted {np.where(pred_preds[i] == 2)[0].tolist()}\")  "
   ]
  },
  {
   "cell_type": "code",
   "execution_count": 6,
   "id": "1f8e1e0e",
   "metadata": {},
   "outputs": [
    {
     "name": "stdout",
     "output_type": "stream",
     "text": [
      "Sequence 0, position 0:\n",
      "  true label: 1\n",
      "  pred label: 0\n",
      "  porbs:[0.4989597  0.23828614 0.2627541 ]\n",
      "Sequence 0, position 1:\n",
      "  true label: 0\n",
      "  pred label: 1\n",
      "  porbs:[0.33909017 0.5215835  0.1393263 ]\n",
      "Sequence 1, position 21:\n",
      "  true label: 0\n",
      "  pred label: 1\n",
      "  porbs:[0.18840827 0.5999837  0.21160805]\n",
      "Sequence 2, position 13:\n",
      "  true label: 1\n",
      "  pred label: 0\n",
      "  porbs:[0.4639237  0.37501976 0.1610565 ]\n"
     ]
    }
   ],
   "source": [
    "for i, j in [(0, 0), (0, 1), (1, 21), (2, 13)]:\n",
    "    print(f\"Sequence {i}, position {j}:\\n  true label: {test_labels[i,j]}\\n  pred label: {pred_preds[i,j]}\\n  porbs:{pred_probs[i,j,]}\")"
   ]
  },
  {
   "cell_type": "markdown",
   "id": "ba2e97b7",
   "metadata": {},
   "source": [
    "Calculate PR-AUC, the area under the precision-recall curve."
   ]
  },
  {
   "cell_type": "code",
   "execution_count": 10,
   "id": "f3747916",
   "metadata": {},
   "outputs": [
    {
     "data": {
      "image/png": "[encoded data removed]",
      "text/plain": [
       "<Figure size 700x600 with 1 Axes>"
      ]
     },
     "metadata": {},
     "output_type": "display_data"
    },
    {
     "name": "stdout",
     "output_type": "stream",
     "text": [
      "PR-AUC for class 0: 0.9990\n",
      "PR-AUC for class 1: 0.1317\n",
      "PR-AUC for class 2: 0.0583\n"
     ]
    }
   ],
   "source": [
    "import matplotlib.pyplot as plt\n",
    "from sklearn.metrics import precision_recall_curve, auc\n",
    "\n",
    "pr_auc_scores = {}\n",
    "plt.figure(figsize=(7, 6))\n",
    "\n",
    "for class_idx in range(3):\n",
    "    # Binary labels for the current class\n",
    "    y_true = (pred['labels_true'] == class_idx).astype(int).reshape(-1)\n",
    "    # Predicted probabilities for that class\n",
    "    y_scores = pred['splice_probs'][:, :, class_idx].reshape(-1)\n",
    "\n",
    "    # Compute PR curve and area\n",
    "    precision, recall, _ = precision_recall_curve(y_true, y_scores)\n",
    "    pr_auc = auc(recall, precision)\n",
    "    pr_auc_scores[class_idx] = pr_auc\n",
    "\n",
    "    # Plot\n",
    "    plt.plot(\n",
    "        recall, precision,\n",
    "        label=f\"Class {class_idx} (AUC = {pr_auc:.3f})\",\n",
    "        linewidth=2\n",
    "    )\n",
    "\n",
    "# Plot formatting\n",
    "plt.xlabel(\"Recall\", fontsize=12)\n",
    "plt.ylabel(\"Precision\", fontsize=12)\n",
    "plt.title(\"Precision–Recall Curves for Splice Site Classes\", fontsize=14)\n",
    "plt.legend(loc=\"lower left\")\n",
    "plt.grid(alpha=0.3)\n",
    "plt.tight_layout()\n",
    "plt.savefig(\"plots/pr_curves_splicevo_subset.png\", dpi=300)\n",
    "plt.show()\n",
    "\n",
    "# Print PR-AUC values\n",
    "for c, auc_score in pr_auc_scores.items():\n",
    "    print(f\"PR-AUC for class {c}: {auc_score:.4f}\")\n"
   ]
  },
  {
   "cell_type": "markdown",
   "id": "c343ced7",
   "metadata": {},
   "source": [
    "Calculate top-k accuracy by choosing a threshold to make predicted positive sites and actual positive sites have the same number, then computing the fraction of correctly predicted splice sites."
   ]
  },
  {
   "cell_type": "code",
   "execution_count": 8,
   "id": "3220fb4b",
   "metadata": {},
   "outputs": [
    {
     "name": "stdout",
     "output_type": "stream",
     "text": [
      "Top-k accuracy for class 0: 0.9984\n",
      "Top-k accuracy for class 1: 0.2540\n",
      "Top-k accuracy for class 2: 0.1454\n"
     ]
    }
   ],
   "source": [
    "def top_k_accuracy(y_true, y_scores):\n",
    "    # How many actual positive sites (k) are there?\n",
    "    k = np.sum(y_true)\n",
    "    # Select prediction value threshold at which there are k predicted positive sites\n",
    "    threshold = np.sort(y_scores)[-k]\n",
    "    # Predicted positive sites\n",
    "    y_pred = (y_scores >= threshold).astype(int)\n",
    "    # Calculate accuracy\n",
    "    accuracy = np.sum((y_pred == 1) & (y_true == 1)) / k\n",
    "    return accuracy\n",
    "\n",
    "top_k_acc = {}\n",
    "for class_idx in range(3):\n",
    "    y_true = (pred['labels_true'] == class_idx).astype(int)\n",
    "    y_true = y_true.reshape(-1)\n",
    "    y_scores = pred['splice_probs'][:,:,class_idx]\n",
    "    y_scores = y_scores.reshape(-1)\n",
    "    acc = top_k_accuracy(y_true, y_scores)\n",
    "    top_k_acc[class_idx] = acc\n",
    "    print(f\"Top-k accuracy for class {class_idx}: {acc:.4f}\")"
   ]
  }
 ],
 "metadata": {
  "kernelspec": {
   "display_name": "splicevo",
   "language": "python",
   "name": "python3"
  },
  "language_info": {
   "codemirror_mode": {
    "name": "ipython",
    "version": 3
   },
   "file_extension": ".py",
   "mimetype": "text/x-python",
   "name": "python",
   "nbconvert_exporter": "python",
   "pygments_lexer": "ipython3",
   "version": "3.10.18"
  }
 },
 "nbformat": 4,
 "nbformat_minor": 5
}
